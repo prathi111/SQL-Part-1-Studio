{
    "metadata": {
        "kernelspec": {
            "name": "SQL",
            "display_name": "SQL",
            "language": "sql"
        },
        "language_info": {
            "name": "sql",
            "version": ""
        },
        "extensions": {
            "azuredatastudio": {
                "version": 1,
                "views": []
            }
        }
    },
    "nbformat_minor": 2,
    "nbformat": 4,
    "cells": [
        {
            "cell_type": "markdown",
            "source": [
                "# SQL Part 1 Studio\n",
                "\n",
                "### Let's practice your SQL quering skills!  For each question, work along in the notebook adding your query and answering the questions. \n",
                "\n",
                "### **DataSet**\n",
                "\n",
                "### <span style=\"font-size: 14px; font-family: -apple-system, BlinkMacSystemFont, sans-serif;\">We will be using the Goodbooks-10k dataset from the exercises in the prep work.&nbsp; Feel free to reference your notebook.</span>\n",
                "\n",
                "- The dataset can be found here: [goodbooks-10k](https://www.kaggle.com/zygmunt/goodbooks-10k)\n",
                "- You can access the **BooksDB** in the Launchcode server.\n",
                "\n",
                "### **Business Issue**\n",
                "\n",
                "You work for a small independant book store and you want to increase sales by running various promotions.  Start by becoming more familar with the BooksDB."
            ],
            "metadata": {
                "azdata_cell_guid": "b9034d8a-b631-48bf-a895-1012a6ffa784"
            }
        },
        {
            "cell_type": "markdown",
            "source": [
                "## Part 1. BooksDB Questions\n",
                "\n",
                "<span style=\"color: rgba(0, 0, 0, 0.87); font-family: -apple-system, system-ui, &quot;Segoe UI&quot;, Helvetica, Arial, sans-serif, &quot;Apple Color Emoji&quot;, &quot;Segoe UI Emoji&quot;, &quot;Segoe UI Symbol&quot;; background-color: rgb(255, 255, 255);\">Question 1:&nbsp; Write a query of the books table, returning the TOP 100 results and&nbsp; includes, book_id, authors, title, average_rating.&nbsp; Use an alias for at least one column and in descending order of rating.&nbsp; What is the number one book?</span>\n",
                "\n",
                "The Complete Calvin and Hobbes- by Bill Watterson"
            ],
            "metadata": {
                "azdata_cell_guid": "6e55eb1c-4a14-4076-90d2-95ed17a6309f",
                "tags": [
                    "hide_input"
                ]
            },
            "attachments": {}
        },
        {
            "cell_type": "code",
            "source": [
                "-- return top 100 results\n",
                "\n",
                "Select top 100 book_id,authors,title,average_rating as rating From BooksDB.dbo.books \n",
                "order by average_rating desc "
            ],
            "metadata": {
                "azdata_cell_guid": "470b0ca4-9a32-4b46-a42e-bbb645101769",
                "tags": [],
                "language": "sql"
            },
            "outputs": [
                {
                    "output_type": "display_data",
                    "data": {
                        "text/html": "(100 rows affected)"
                    },
                    "metadata": {}
                },
                {
                    "output_type": "display_data",
                    "data": {
                        "text/html": "Total execution time: 00:00:00.100"
                    },
                    "metadata": {}
                },
                {
                    "output_type": "execute_result",
                    "metadata": {},
                    "execution_count": 20,
                    "data": {
                        "application/vnd.dataresource+json": {
                            "schema": {
                                "fields": [
                                    {
                                        "name": "book_id"
                                    },
                                    {
                                        "name": "authors"
                                    },
                                    {
                                        "name": "title"
                                    },
                                    {
                                        "name": "rating"
                                    }
                                ]
                            },
                            "data": [
                                {
                                    "0": "24812",
                                    "1": "Bill Watterson",
                                    "2": "The Complete Calvin and Hobbes",
                                    "3": "4.82"
                                },
                                {
                                    "0": "17332218",
                                    "1": "Brandon Sanderson",
                                    "2": "Words of Radiance (The Stormlight Archive, #2)",
                                    "3": "4.77"
                                },
                                {
                                    "0": "8",
                                    "1": "J.K. Rowling, Mary GrandPré",
                                    "2": "Harry Potter Boxed Set, Books 1-5 (Harry Potter, #1-5)",
                                    "3": "4.77"
                                },
                                {
                                    "0": "5031805",
                                    "1": "Anonymous, Lane T. Dennis, Wayne A. Grudem",
                                    "2": "ESV Study Bible",
                                    "3": "4.76"
                                },
                                {
                                    "0": "95602",
                                    "1": "Francine Rivers",
                                    "2": "Mark of the Lion Trilogy",
                                    "3": "4.76"
                                },
                                {
                                    "0": "24814",
                                    "1": "Bill Watterson",
                                    "2": "It's a Magical World: A Calvin and Hobbes Collection",
                                    "3": "4.75"
                                },
                                {
                                    "0": "862041",
                                    "1": "J.K. Rowling",
                                    "2": "Harry Potter Boxset (Harry Potter, #1-7)",
                                    "3": "4.74"
                                },
                                {
                                    "0": "70489",
                                    "1": "Bill Watterson",
                                    "2": "There's Treasure Everywhere: A Calvin and Hobbes Collection",
                                    "3": "4.74"
                                },
                                {
                                    "0": "10",
                                    "1": "J.K. Rowling",
                                    "2": "Harry Potter Collection (Harry Potter, #1-6)",
                                    "3": "4.73"
                                },
                                {
                                    "0": "59715",
                                    "1": "Bill Watterson",
                                    "2": "The Authoritative Calvin and Hobbes: A Calvin and Hobbes Treasury",
                                    "3": "4.73"
                                },
                                {
                                    "0": "24815",
                                    "1": "Bill Watterson",
                                    "2": "The Indispensable Calvin and Hobbes",
                                    "3": "4.73"
                                },
                                {
                                    "0": "17927395",
                                    "1": "Sarah J. Maas",
                                    "2": "A Court of Mist and Fury (A Court of Thorns and Roses, #2)",
                                    "3": "4.72"
                                },
                                {
                                    "0": "70487",
                                    "1": "Bill Watterson",
                                    "2": "Attack of the Deranged Mutant Killer Monster Snow Goons",
                                    "3": "4.72"
                                },
                                {
                                    "0": "24816",
                                    "1": "Bill Watterson",
                                    "2": "Homicidal Psycho Jungle Cat: A Calvin and Hobbes Collection",
                                    "3": "4.71"
                                },
                                {
                                    "0": "121792",
                                    "1": "Bill Watterson",
                                    "2": "The Revenge of the Baby-Sat",
                                    "3": "4.71"
                                },
                                {
                                    "0": "2350129",
                                    "1": "The Church of Jesus Christ of Latter-day Saints",
                                    "2": "Preach My Gospel: A Guide To Missionary Service",
                                    "3": "4.71"
                                },
                                {
                                    "0": "24818",
                                    "1": "Bill Watterson",
                                    "2": "The Days Are Just Packed: A Calvin and Hobbes Collection",
                                    "3": "4.68"
                                },
                                {
                                    "0": "265205",
                                    "1": "Anonymous, Ronald A. Beers, Ronald A. Beers",
                                    "2": "Life Application Study Bible: NIV",
                                    "3": "4.67"
                                },
                                {
                                    "0": "9329354",
                                    "1": "Brandon Sanderson",
                                    "2": "The Way of Kings, Part 1 (The Stormlight Archive #1.1)",
                                    "3": "4.67"
                                },
                                {
                                    "0": "99298",
                                    "1": "J.K. Rowling, Mary GrandPré",
                                    "2": "The Harry Potter Collection 1-4 (Harry Potter, #1-4)",
                                    "3": "4.66"
                                },
                                {
                                    "0": "5883777",
                                    "1": "Anonymous",
                                    "2": "The Holy Bible: English Standard Version",
                                    "3": "4.66"
                                },
                                {
                                    "0": "24494",
                                    "1": "Bill Watterson",
                                    "2": "The Calvin and Hobbes Lazy Sunday Book",
                                    "3": "4.66"
                                },
                                {
                                    "0": "43070",
                                    "1": "Bill Watterson",
                                    "2": "The Essential Calvin and Hobbes: A Calvin and Hobbes Treasury",
                                    "3": "4.65"
                                },
                                {
                                    "0": "18337259",
                                    "1": "Daniel Abraham, George R.R. Martin, Tommy Patterson",
                                    "2": "A Game of Thrones: Comic Book, Issue 1",
                                    "3": "4.65"
                                },
                                {
                                    "0": "23753",
                                    "1": "Neil Gaiman, Mike Dringenberg, Chris Bachalo, Michael Zulli, Kelly Jones, Charles Vess, Colleen Doran, Malcolm Jones III, Steve Parkhouse, Daniel Vozzo, Lee Loughridge, Steve Oliff, Todd Klein, Dave McKean, Sam Kieth",
                                    "2": "The Absolute Sandman, Volume One",
                                    "3": "4.65"
                                },
                                {
                                    "0": "7235533",
                                    "1": "Brandon Sanderson",
                                    "2": "The Way of Kings (The Stormlight Archive, #1)",
                                    "3": "4.64"
                                },
                                {
                                    "0": "24813",
                                    "1": "Bill Watterson",
                                    "2": "The Calvin and Hobbes Tenth Anniversary Book",
                                    "3": "4.63"
                                },
                                {
                                    "0": "9814682",
                                    "1": "George R.R. Martin",
                                    "2": "A Song of Ice and Fire (A Song of Ice and Fire, #1-4)",
                                    "3": "4.63"
                                },
                                {
                                    "0": "12177850",
                                    "1": "George R.R. Martin",
                                    "2": "A Song of Ice and Fire (A Song of Ice and Fire, #1-5)",
                                    "3": "4.63"
                                },
                                {
                                    "0": "481749",
                                    "1": "James E. Talmage",
                                    "2": "Jesus the Christ",
                                    "3": "4.63"
                                },
                                {
                                    "0": "46292",
                                    "1": "Hafez",
                                    "2": "The Divan",
                                    "3": "4.63"
                                },
                                {
                                    "0": "6801614",
                                    "1": "Eiichirō Oda",
                                    "2": "One Piece, Volume 38: Rocketman!! (One Piece, #38)",
                                    "3": "4.63"
                                },
                                {
                                    "0": "22299763",
                                    "1": "Leigh Bardugo",
                                    "2": "Crooked Kingdom (Six of Crows, #2)",
                                    "3": "4.62"
                                },
                                {
                                    "0": "32075671",
                                    "1": "Angie Thomas",
                                    "2": "The Hate U Give",
                                    "3": "4.62"
                                },
                                {
                                    "0": "136251",
                                    "1": "J.K. Rowling, Mary GrandPré",
                                    "2": "Harry Potter and the Deathly Hallows (Harry Potter, #7)",
                                    "3": "4.61"
                                },
                                {
                                    "0": "77727",
                                    "1": "Bill Watterson, G.B. Trudeau",
                                    "2": "Calvin and Hobbes",
                                    "3": "4.61"
                                },
                                {
                                    "0": "280111",
                                    "1": "Anonymous",
                                    "2": "Holy Bible: New International Version",
                                    "3": "4.61"
                                },
                                {
                                    "0": "2223324",
                                    "1": "John   Williams",
                                    "2": "Harry Potter and the Chamber of Secrets: Sheet Music for Flute with C.D",
                                    "3": "4.61"
                                },
                                {
                                    "0": "6339989",
                                    "1": "Richelle Mead",
                                    "2": "Vampire Academy Collection (Vampire Academy, #1-3)",
                                    "3": "4.61"
                                },
                                {
                                    "0": "596259",
                                    "1": "Gordon B. Hinckley",
                                    "2": "Standing for Something: 10 Neglected Virtues That Will Heal Our Hearts and Homes",
                                    "3": "4.61"
                                },
                                {
                                    "0": "47697",
                                    "1": "Alisa Kwitney, Neil Gaiman",
                                    "2": "The Sandman: King of Dreams",
                                    "3": "4.61"
                                },
                                {
                                    "0": "18006496",
                                    "1": "Sarah J. Maas",
                                    "2": "Queen of Shadows (Throne of Glass, #4)",
                                    "3": "4.6"
                                },
                                {
                                    "0": "95617",
                                    "1": "Francine Rivers, Richard Ferrone",
                                    "2": "A Voice in the Wind (Mark of the Lion, #1)",
                                    "3": "4.6"
                                },
                                {
                                    "0": "46601",
                                    "1": "Francine Rivers",
                                    "2": "An Echo in the Darkness (Mark of the Lion, #2)",
                                    "3": "4.6"
                                },
                                {
                                    "0": "7025086",
                                    "1": "Christopher Yost, Pasqual Ferry, Orson Scott Card",
                                    "2": "Ender's Game, Volume 2: Command School",
                                    "3": "4.6"
                                },
                                {
                                    "0": "18335634",
                                    "1": "Cassandra Clare",
                                    "2": "Clockwork Princess (The Infernal Devices, #3)",
                                    "3": "4.59"
                                },
                                {
                                    "0": "30",
                                    "1": "J.R.R. Tolkien",
                                    "2": "J.R.R. Tolkien 4-Book Boxed Set: The Hobbit and The Lord of the Rings",
                                    "3": "4.59"
                                },
                                {
                                    "0": "2299110",
                                    "1": "Sherrilyn Kenyon",
                                    "2": "Acheron (Dark-Hunter #14)",
                                    "3": "4.59"
                                },
                                {
                                    "0": "119",
                                    "1": "Gary Russell",
                                    "2": "The Lord of the Rings: The Art of The Fellowship of the Ring",
                                    "3": "4.59"
                                },
                                {
                                    "0": "71252",
                                    "1": "Neil Gaiman, Marc Hempel, Richard Case, D'Israeli, Teddy Kristiansen, Glyn Dillon, Charles Vess, Dean Ormston, Kevin Nowlan, Todd Klein, Frank McConnell",
                                    "2": "The Kindly Ones (The Sandman #9)",
                                    "3": "4.59"
                                },
                                {
                                    "0": "349254",
                                    "1": "Jude Fisher",
                                    "2": "The Lord of the Rings: The Return of the King: Visual Companion",
                                    "3": "4.59"
                                },
                                {
                                    "0": "9832370",
                                    "1": "BookRags",
                                    "2": "BookRags Summary:  A Storm of Swords",
                                    "3": "4.59"
                                },
                                {
                                    "0": "11106458",
                                    "1": "Cassandra Clare",
                                    "2": "The Mortal Instruments (The Mortal Instruments #1-4)",
                                    "3": "4.59"
                                },
                                {
                                    "0": "14367051",
                                    "1": "Cassandra Clare",
                                    "2": "City of Bones / City of Ashes / City of Glass / City of Fallen Angels / City of Lost Souls (The Mortal Instruments, #1-5)",
                                    "3": "4.59"
                                },
                                {
                                    "0": "28260587",
                                    "1": "Sarah J. Maas",
                                    "2": "Empire of Storms (Throne of Glass, #5)",
                                    "3": "4.58"
                                },
                                {
                                    "0": "3165162",
                                    "1": "Rick Riordan",
                                    "2": "Percy Jackson and the Olympians (Percy Jackson and the Olympians, #1-3)",
                                    "3": "4.58"
                                },
                                {
                                    "0": "20342617",
                                    "1": "Bryan Stevenson",
                                    "2": "Just Mercy: A Story of Justice and Redemption",
                                    "3": "4.58"
                                },
                                {
                                    "0": "17961",
                                    "1": "Jorge Luis Borges, Andrew Hurley",
                                    "2": "Collected Fictions",
                                    "3": "4.58"
                                },
                                {
                                    "0": "4808763",
                                    "1": "Isaac Asimov, Bob E. Flick, Jim Gallant",
                                    "2": "The Last Question",
                                    "3": "4.58"
                                },
                                {
                                    "0": "15767586",
                                    "1": "Sherrilyn Kenyon",
                                    "2": "Styxx (Dark-Hunter, #22)",
                                    "3": "4.58"
                                },
                                {
                                    "0": "892295",
                                    "1": "Arthur Conan Doyle, William S. Baring-Gould",
                                    "2": "The Annotated Sherlock Holmes: The Four Novels and the Fifty-Six Short Stories Complete (2 Volume Set)",
                                    "3": "4.58"
                                },
                                {
                                    "0": "1215032",
                                    "1": "Patrick Rothfuss",
                                    "2": "The Wise Man's Fear (The Kingkiller Chronicle, #2)",
                                    "3": "4.57"
                                },
                                {
                                    "0": "6485421",
                                    "1": "Cassandra Clare",
                                    "2": "The Mortal Instruments Boxed Set: City of Bones; City of Ashes; City of Glass (The Mortal Instruments, #1-3)",
                                    "3": "4.57"
                                },
                                {
                                    "0": "17131869",
                                    "1": "Brian K. Vaughan, Fiona Staples",
                                    "2": "Saga, Vol. 2 (Saga, #2)",
                                    "3": "4.57"
                                },
                                {
                                    "0": "8718952",
                                    "1": "Richelle Mead",
                                    "2": "Vampire Academy Box Set (Vampire Academy, #1-4)",
                                    "3": "4.57"
                                },
                                {
                                    "0": "4634266",
                                    "1": "Masashi Kishimoto",
                                    "2": "NARUTO -ナルト- 巻ノ四十三",
                                    "3": "4.57"
                                },
                                {
                                    "0": "6443349",
                                    "1": "Rick Riordan, Tk",
                                    "2": "Percy Jackson and the Olympians Boxed Set (Percy Jackson and the Olympians, #1-5)",
                                    "3": "4.57"
                                },
                                {
                                    "0": "545425",
                                    "1": "Safiy al-Rahman al-Mubarakfuri",
                                    "2": "الرحيق المختوم",
                                    "3": "4.57"
                                },
                                {
                                    "0": "17333174",
                                    "1": "Ilona Andrews",
                                    "2": "Magic Binds (Kate Daniels, #9)",
                                    "3": "4.57"
                                },
                                {
                                    "0": "147915",
                                    "1": "George R.R. Martin",
                                    "2": "A Storm of Swords: Blood and Gold (A Song of Ice and Fire, #3: Part 2 of 2)",
                                    "3": "4.56"
                                },
                                {
                                    "0": "19358975",
                                    "1": "Brian K. Vaughan, Fiona Staples",
                                    "2": "Saga, Vol. 3 (Saga, #3)",
                                    "3": "4.56"
                                },
                                {
                                    "0": "10785687",
                                    "1": "Bob McCabe",
                                    "2": "Harry Potter Page to Screen: The Complete Filmmaking Journey",
                                    "3": "4.56"
                                },
                                {
                                    "0": "17880714",
                                    "1": "K. Bromberg",
                                    "2": "Crashed (Driven, #3)",
                                    "3": "4.56"
                                },
                                {
                                    "0": "1317181",
                                    "1": "J.K. Rowling",
                                    "2": "Harry Potter and the Order of the Phoenix (Harry Potter, #5, Part 1)",
                                    "3": "4.56"
                                },
                                {
                                    "0": "15743078",
                                    "1": "Veronica Roth",
                                    "2": "The Divergent Series 2-Book Collection (Divergent, #1-2)",
                                    "3": "4.56"
                                },
                                {
                                    "0": "29236299",
                                    "1": "Amie Kaufman, Jay Kristoff, Marie Lu",
                                    "2": "Gemina (The Illuminae Files, #2)",
                                    "3": "4.56"
                                },
                                {
                                    "0": "186074",
                                    "1": "Patrick Rothfuss",
                                    "2": "The Name of the Wind (The Kingkiller Chronicle, #1)",
                                    "3": "4.55"
                                },
                                {
                                    "0": "19486421",
                                    "1": "Jim Butcher",
                                    "2": "Skin Game (The Dresden Files, #15)",
                                    "3": "4.55"
                                },
                                {
                                    "0": "6604209",
                                    "1": "Brandon Sanderson",
                                    "2": "Mistborn Trilogy Boxed Set (Mistborn, #1-3)",
                                    "3": "4.55"
                                },
                                {
                                    "0": "25105",
                                    "1": "Neil Gaiman, Jill Thompson, Vince Locke, Peter Straub",
                                    "2": "Brief Lives (The Sandman #7)",
                                    "3": "4.55"
                                },
                                {
                                    "0": "8346300",
                                    "1": "Andrew Williamson, Andrew Williamson",
                                    "2": "Harry Potter: A Pop-Up Book: Based on the Film Phenomenon",
                                    "3": "4.55"
                                },
                                {
                                    "0": "14905",
                                    "1": "Jane Austen",
                                    "2": "The Complete Novels",
                                    "3": "4.55"
                                },
                                {
                                    "0": "13184992",
                                    "1": "Kristen Ashley",
                                    "2": "Rock Chick Regret (Rock Chick, #7)",
                                    "3": "4.55"
                                },
                                {
                                    "0": "71823",
                                    "1": "Stephen King",
                                    "2": "The Green Mile, Part 6: Coffey on the Mile",
                                    "3": "4.55"
                                },
                                {
                                    "0": "1",
                                    "1": "J.K. Rowling, Mary GrandPré",
                                    "2": "Harry Potter and the Half-Blood Prince (Harry Potter, #6)",
                                    "3": "4.54"
                                },
                                {
                                    "0": "62291",
                                    "1": "George R.R. Martin",
                                    "2": "A Storm of Swords (A Song of Ice and Fire, #3)",
                                    "3": "4.54"
                                },
                                {
                                    "0": "21853621",
                                    "1": "Kristin Hannah",
                                    "2": "The Nightingale",
                                    "3": "4.54"
                                },
                                {
                                    "0": "12127810",
                                    "1": "Rick Riordan",
                                    "2": "The House of Hades (The Heroes of Olympus, #4)",
                                    "3": "4.54"
                                },
                                {
                                    "0": "6585201",
                                    "1": "Jim Butcher",
                                    "2": "Changes (The Dresden Files, #12)",
                                    "3": "4.54"
                                },
                                {
                                    "0": "381421",
                                    "1": "Sarah  Young",
                                    "2": "Jesus Calling: Enjoying Peace in His Presence",
                                    "3": "4.54"
                                },
                                {
                                    "0": "25101",
                                    "1": "Neil Gaiman, Matt Wagner, George Pratt, Dick Giordano, Kelley Jones, P. Craig Russell, Mike Dringenberg, Malcolm Jones III, Todd Klein, Harlan Ellison",
                                    "2": "Season of Mists (The Sandman #4)",
                                    "3": "4.54"
                                },
                                {
                                    "0": "89959",
                                    "1": "Founding Fathers",
                                    "2": "The Constitution of the United States of America",
                                    "3": "4.54"
                                },
                                {
                                    "0": "23766634",
                                    "1": "Sarah J. Maas",
                                    "2": "A Court of Wings and Ruin (A Court of Thorns and Roses, #3)",
                                    "3": "4.54"
                                },
                                {
                                    "0": "20706320",
                                    "1": "Chris Colfer, Brandon Dorman",
                                    "2": "A Grimm Warning (The Land of Stories, #3)",
                                    "3": "4.54"
                                },
                                {
                                    "0": "8163161",
                                    "1": "Bisco Hatori",
                                    "2": "Ouran High School Host Club, Vol. 15 (Ouran High School Host Club, #15)",
                                    "3": "4.54"
                                },
                                {
                                    "0": "5",
                                    "1": "J.K. Rowling, Mary GrandPré, Rufus Beck",
                                    "2": "Harry Potter and the Prisoner of Azkaban (Harry Potter, #3)",
                                    "3": "4.53"
                                },
                                {
                                    "0": "6",
                                    "1": "J.K. Rowling, Mary GrandPré",
                                    "2": "Harry Potter and the Goblet of Fire (Harry Potter, #4)",
                                    "3": "4.53"
                                },
                                {
                                    "0": "20613470",
                                    "1": "Sarah J. Maas",
                                    "2": "Heir of Fire (Throne of Glass, #3)",
                                    "3": "4.53"
                                },
                                {
                                    "0": "15195",
                                    "1": "Art Spiegelman",
                                    "2": "The Complete Maus (Maus, #1-2)",
                                    "3": "4.53"
                                },
                                {
                                    "0": "25104",
                                    "1": "Neil Gaiman, Michael Zulli, Jon J. Muth, Charles Vess, Mikal Gilmore",
                                    "2": "The Wake (The Sandman #10)",
                                    "3": "4.53"
                                }
                            ]
                        },
                        "text/html": [
                            "<table>",
                            "<tr><th>book_id</th><th>authors</th><th>title</th><th>rating</th></tr>",
                            "<tr><td>24812</td><td>Bill Watterson</td><td>The Complete Calvin and Hobbes</td><td>4.82</td></tr>",
                            "<tr><td>17332218</td><td>Brandon Sanderson</td><td>Words of Radiance (The Stormlight Archive, #2)</td><td>4.77</td></tr>",
                            "<tr><td>8</td><td>J.K. Rowling, Mary GrandPré</td><td>Harry Potter Boxed Set, Books 1-5 (Harry Potter, #1-5)</td><td>4.77</td></tr>",
                            "<tr><td>5031805</td><td>Anonymous, Lane T. Dennis, Wayne A. Grudem</td><td>ESV Study Bible</td><td>4.76</td></tr>",
                            "<tr><td>95602</td><td>Francine Rivers</td><td>Mark of the Lion Trilogy</td><td>4.76</td></tr>",
                            "<tr><td>24814</td><td>Bill Watterson</td><td>It's a Magical World: A Calvin and Hobbes Collection</td><td>4.75</td></tr>",
                            "<tr><td>862041</td><td>J.K. Rowling</td><td>Harry Potter Boxset (Harry Potter, #1-7)</td><td>4.74</td></tr>",
                            "<tr><td>70489</td><td>Bill Watterson</td><td>There's Treasure Everywhere: A Calvin and Hobbes Collection</td><td>4.74</td></tr>",
                            "<tr><td>10</td><td>J.K. Rowling</td><td>Harry Potter Collection (Harry Potter, #1-6)</td><td>4.73</td></tr>",
                            "<tr><td>59715</td><td>Bill Watterson</td><td>The Authoritative Calvin and Hobbes: A Calvin and Hobbes Treasury</td><td>4.73</td></tr>",
                            "<tr><td>24815</td><td>Bill Watterson</td><td>The Indispensable Calvin and Hobbes</td><td>4.73</td></tr>",
                            "<tr><td>17927395</td><td>Sarah J. Maas</td><td>A Court of Mist and Fury (A Court of Thorns and Roses, #2)</td><td>4.72</td></tr>",
                            "<tr><td>70487</td><td>Bill Watterson</td><td>Attack of the Deranged Mutant Killer Monster Snow Goons</td><td>4.72</td></tr>",
                            "<tr><td>24816</td><td>Bill Watterson</td><td>Homicidal Psycho Jungle Cat: A Calvin and Hobbes Collection</td><td>4.71</td></tr>",
                            "<tr><td>121792</td><td>Bill Watterson</td><td>The Revenge of the Baby-Sat</td><td>4.71</td></tr>",
                            "<tr><td>2350129</td><td>The Church of Jesus Christ of Latter-day Saints</td><td>Preach My Gospel: A Guide To Missionary Service</td><td>4.71</td></tr>",
                            "<tr><td>24818</td><td>Bill Watterson</td><td>The Days Are Just Packed: A Calvin and Hobbes Collection</td><td>4.68</td></tr>",
                            "<tr><td>265205</td><td>Anonymous, Ronald A. Beers, Ronald A. Beers</td><td>Life Application Study Bible: NIV</td><td>4.67</td></tr>",
                            "<tr><td>9329354</td><td>Brandon Sanderson</td><td>The Way of Kings, Part 1 (The Stormlight Archive #1.1)</td><td>4.67</td></tr>",
                            "<tr><td>99298</td><td>J.K. Rowling, Mary GrandPré</td><td>The Harry Potter Collection 1-4 (Harry Potter, #1-4)</td><td>4.66</td></tr>",
                            "<tr><td>5883777</td><td>Anonymous</td><td>The Holy Bible: English Standard Version</td><td>4.66</td></tr>",
                            "<tr><td>24494</td><td>Bill Watterson</td><td>The Calvin and Hobbes Lazy Sunday Book</td><td>4.66</td></tr>",
                            "<tr><td>43070</td><td>Bill Watterson</td><td>The Essential Calvin and Hobbes: A Calvin and Hobbes Treasury</td><td>4.65</td></tr>",
                            "<tr><td>18337259</td><td>Daniel Abraham, George R.R. Martin, Tommy Patterson</td><td>A Game of Thrones: Comic Book, Issue 1</td><td>4.65</td></tr>",
                            "<tr><td>23753</td><td>Neil Gaiman, Mike Dringenberg, Chris Bachalo, Michael Zulli, Kelly Jones, Charles Vess, Colleen Doran, Malcolm Jones III, Steve Parkhouse, Daniel Vozzo, Lee Loughridge, Steve Oliff, Todd Klein, Dave McKean, Sam Kieth</td><td>The Absolute Sandman, Volume One</td><td>4.65</td></tr>",
                            "<tr><td>7235533</td><td>Brandon Sanderson</td><td>The Way of Kings (The Stormlight Archive, #1)</td><td>4.64</td></tr>",
                            "<tr><td>24813</td><td>Bill Watterson</td><td>The Calvin and Hobbes Tenth Anniversary Book</td><td>4.63</td></tr>",
                            "<tr><td>9814682</td><td>George R.R. Martin</td><td>A Song of Ice and Fire (A Song of Ice and Fire, #1-4)</td><td>4.63</td></tr>",
                            "<tr><td>12177850</td><td>George R.R. Martin</td><td>A Song of Ice and Fire (A Song of Ice and Fire, #1-5)</td><td>4.63</td></tr>",
                            "<tr><td>481749</td><td>James E. Talmage</td><td>Jesus the Christ</td><td>4.63</td></tr>",
                            "<tr><td>46292</td><td>Hafez</td><td>The Divan</td><td>4.63</td></tr>",
                            "<tr><td>6801614</td><td>Eiichirō Oda</td><td>One Piece, Volume 38: Rocketman!! (One Piece, #38)</td><td>4.63</td></tr>",
                            "<tr><td>22299763</td><td>Leigh Bardugo</td><td>Crooked Kingdom (Six of Crows, #2)</td><td>4.62</td></tr>",
                            "<tr><td>32075671</td><td>Angie Thomas</td><td>The Hate U Give</td><td>4.62</td></tr>",
                            "<tr><td>136251</td><td>J.K. Rowling, Mary GrandPré</td><td>Harry Potter and the Deathly Hallows (Harry Potter, #7)</td><td>4.61</td></tr>",
                            "<tr><td>77727</td><td>Bill Watterson, G.B. Trudeau</td><td>Calvin and Hobbes</td><td>4.61</td></tr>",
                            "<tr><td>280111</td><td>Anonymous</td><td>Holy Bible: New International Version</td><td>4.61</td></tr>",
                            "<tr><td>2223324</td><td>John   Williams</td><td>Harry Potter and the Chamber of Secrets: Sheet Music for Flute with C.D</td><td>4.61</td></tr>",
                            "<tr><td>6339989</td><td>Richelle Mead</td><td>Vampire Academy Collection (Vampire Academy, #1-3)</td><td>4.61</td></tr>",
                            "<tr><td>596259</td><td>Gordon B. Hinckley</td><td>Standing for Something: 10 Neglected Virtues That Will Heal Our Hearts and Homes</td><td>4.61</td></tr>",
                            "<tr><td>47697</td><td>Alisa Kwitney, Neil Gaiman</td><td>The Sandman: King of Dreams</td><td>4.61</td></tr>",
                            "<tr><td>18006496</td><td>Sarah J. Maas</td><td>Queen of Shadows (Throne of Glass, #4)</td><td>4.6</td></tr>",
                            "<tr><td>95617</td><td>Francine Rivers, Richard Ferrone</td><td>A Voice in the Wind (Mark of the Lion, #1)</td><td>4.6</td></tr>",
                            "<tr><td>46601</td><td>Francine Rivers</td><td>An Echo in the Darkness (Mark of the Lion, #2)</td><td>4.6</td></tr>",
                            "<tr><td>7025086</td><td>Christopher Yost, Pasqual Ferry, Orson Scott Card</td><td>Ender's Game, Volume 2: Command School</td><td>4.6</td></tr>",
                            "<tr><td>18335634</td><td>Cassandra Clare</td><td>Clockwork Princess (The Infernal Devices, #3)</td><td>4.59</td></tr>",
                            "<tr><td>30</td><td>J.R.R. Tolkien</td><td>J.R.R. Tolkien 4-Book Boxed Set: The Hobbit and The Lord of the Rings</td><td>4.59</td></tr>",
                            "<tr><td>2299110</td><td>Sherrilyn Kenyon</td><td>Acheron (Dark-Hunter #14)</td><td>4.59</td></tr>",
                            "<tr><td>119</td><td>Gary Russell</td><td>The Lord of the Rings: The Art of The Fellowship of the Ring</td><td>4.59</td></tr>",
                            "<tr><td>71252</td><td>Neil Gaiman, Marc Hempel, Richard Case, D'Israeli, Teddy Kristiansen, Glyn Dillon, Charles Vess, Dean Ormston, Kevin Nowlan, Todd Klein, Frank McConnell</td><td>The Kindly Ones (The Sandman #9)</td><td>4.59</td></tr>",
                            "<tr><td>349254</td><td>Jude Fisher</td><td>The Lord of the Rings: The Return of the King: Visual Companion</td><td>4.59</td></tr>",
                            "<tr><td>9832370</td><td>BookRags</td><td>BookRags Summary:  A Storm of Swords</td><td>4.59</td></tr>",
                            "<tr><td>11106458</td><td>Cassandra Clare</td><td>The Mortal Instruments (The Mortal Instruments #1-4)</td><td>4.59</td></tr>",
                            "<tr><td>14367051</td><td>Cassandra Clare</td><td>City of Bones / City of Ashes / City of Glass / City of Fallen Angels / City of Lost Souls (The Mortal Instruments, #1-5)</td><td>4.59</td></tr>",
                            "<tr><td>28260587</td><td>Sarah J. Maas</td><td>Empire of Storms (Throne of Glass, #5)</td><td>4.58</td></tr>",
                            "<tr><td>3165162</td><td>Rick Riordan</td><td>Percy Jackson and the Olympians (Percy Jackson and the Olympians, #1-3)</td><td>4.58</td></tr>",
                            "<tr><td>20342617</td><td>Bryan Stevenson</td><td>Just Mercy: A Story of Justice and Redemption</td><td>4.58</td></tr>",
                            "<tr><td>17961</td><td>Jorge Luis Borges, Andrew Hurley</td><td>Collected Fictions</td><td>4.58</td></tr>",
                            "<tr><td>4808763</td><td>Isaac Asimov, Bob E. Flick, Jim Gallant</td><td>The Last Question</td><td>4.58</td></tr>",
                            "<tr><td>15767586</td><td>Sherrilyn Kenyon</td><td>Styxx (Dark-Hunter, #22)</td><td>4.58</td></tr>",
                            "<tr><td>892295</td><td>Arthur Conan Doyle, William S. Baring-Gould</td><td>The Annotated Sherlock Holmes: The Four Novels and the Fifty-Six Short Stories Complete (2 Volume Set)</td><td>4.58</td></tr>",
                            "<tr><td>1215032</td><td>Patrick Rothfuss</td><td>The Wise Man's Fear (The Kingkiller Chronicle, #2)</td><td>4.57</td></tr>",
                            "<tr><td>6485421</td><td>Cassandra Clare</td><td>The Mortal Instruments Boxed Set: City of Bones; City of Ashes; City of Glass (The Mortal Instruments, #1-3)</td><td>4.57</td></tr>",
                            "<tr><td>17131869</td><td>Brian K. Vaughan, Fiona Staples</td><td>Saga, Vol. 2 (Saga, #2)</td><td>4.57</td></tr>",
                            "<tr><td>8718952</td><td>Richelle Mead</td><td>Vampire Academy Box Set (Vampire Academy, #1-4)</td><td>4.57</td></tr>",
                            "<tr><td>4634266</td><td>Masashi Kishimoto</td><td>NARUTO -ナルト- 巻ノ四十三</td><td>4.57</td></tr>",
                            "<tr><td>6443349</td><td>Rick Riordan, Tk</td><td>Percy Jackson and the Olympians Boxed Set (Percy Jackson and the Olympians, #1-5)</td><td>4.57</td></tr>",
                            "<tr><td>545425</td><td>Safiy al-Rahman al-Mubarakfuri</td><td>الرحيق المختوم</td><td>4.57</td></tr>",
                            "<tr><td>17333174</td><td>Ilona Andrews</td><td>Magic Binds (Kate Daniels, #9)</td><td>4.57</td></tr>",
                            "<tr><td>147915</td><td>George R.R. Martin</td><td>A Storm of Swords: Blood and Gold (A Song of Ice and Fire, #3: Part 2 of 2)</td><td>4.56</td></tr>",
                            "<tr><td>19358975</td><td>Brian K. Vaughan, Fiona Staples</td><td>Saga, Vol. 3 (Saga, #3)</td><td>4.56</td></tr>",
                            "<tr><td>10785687</td><td>Bob McCabe</td><td>Harry Potter Page to Screen: The Complete Filmmaking Journey</td><td>4.56</td></tr>",
                            "<tr><td>17880714</td><td>K. Bromberg</td><td>Crashed (Driven, #3)</td><td>4.56</td></tr>",
                            "<tr><td>1317181</td><td>J.K. Rowling</td><td>Harry Potter and the Order of the Phoenix (Harry Potter, #5, Part 1)</td><td>4.56</td></tr>",
                            "<tr><td>15743078</td><td>Veronica Roth</td><td>The Divergent Series 2-Book Collection (Divergent, #1-2)</td><td>4.56</td></tr>",
                            "<tr><td>29236299</td><td>Amie Kaufman, Jay Kristoff, Marie Lu</td><td>Gemina (The Illuminae Files, #2)</td><td>4.56</td></tr>",
                            "<tr><td>186074</td><td>Patrick Rothfuss</td><td>The Name of the Wind (The Kingkiller Chronicle, #1)</td><td>4.55</td></tr>",
                            "<tr><td>19486421</td><td>Jim Butcher</td><td>Skin Game (The Dresden Files, #15)</td><td>4.55</td></tr>",
                            "<tr><td>6604209</td><td>Brandon Sanderson</td><td>Mistborn Trilogy Boxed Set (Mistborn, #1-3)</td><td>4.55</td></tr>",
                            "<tr><td>25105</td><td>Neil Gaiman, Jill Thompson, Vince Locke, Peter Straub</td><td>Brief Lives (The Sandman #7)</td><td>4.55</td></tr>",
                            "<tr><td>8346300</td><td>Andrew Williamson, Andrew Williamson</td><td>Harry Potter: A Pop-Up Book: Based on the Film Phenomenon</td><td>4.55</td></tr>",
                            "<tr><td>14905</td><td>Jane Austen</td><td>The Complete Novels</td><td>4.55</td></tr>",
                            "<tr><td>13184992</td><td>Kristen Ashley</td><td>Rock Chick Regret (Rock Chick, #7)</td><td>4.55</td></tr>",
                            "<tr><td>71823</td><td>Stephen King</td><td>The Green Mile, Part 6: Coffey on the Mile</td><td>4.55</td></tr>",
                            "<tr><td>1</td><td>J.K. Rowling, Mary GrandPré</td><td>Harry Potter and the Half-Blood Prince (Harry Potter, #6)</td><td>4.54</td></tr>",
                            "<tr><td>62291</td><td>George R.R. Martin</td><td>A Storm of Swords (A Song of Ice and Fire, #3)</td><td>4.54</td></tr>",
                            "<tr><td>21853621</td><td>Kristin Hannah</td><td>The Nightingale</td><td>4.54</td></tr>",
                            "<tr><td>12127810</td><td>Rick Riordan</td><td>The House of Hades (The Heroes of Olympus, #4)</td><td>4.54</td></tr>",
                            "<tr><td>6585201</td><td>Jim Butcher</td><td>Changes (The Dresden Files, #12)</td><td>4.54</td></tr>",
                            "<tr><td>381421</td><td>Sarah  Young</td><td>Jesus Calling: Enjoying Peace in His Presence</td><td>4.54</td></tr>",
                            "<tr><td>25101</td><td>Neil Gaiman, Matt Wagner, George Pratt, Dick Giordano, Kelley Jones, P. Craig Russell, Mike Dringenberg, Malcolm Jones III, Todd Klein, Harlan Ellison</td><td>Season of Mists (The Sandman #4)</td><td>4.54</td></tr>",
                            "<tr><td>89959</td><td>Founding Fathers</td><td>The Constitution of the United States of America</td><td>4.54</td></tr>",
                            "<tr><td>23766634</td><td>Sarah J. Maas</td><td>A Court of Wings and Ruin (A Court of Thorns and Roses, #3)</td><td>4.54</td></tr>",
                            "<tr><td>20706320</td><td>Chris Colfer, Brandon Dorman</td><td>A Grimm Warning (The Land of Stories, #3)</td><td>4.54</td></tr>",
                            "<tr><td>8163161</td><td>Bisco Hatori</td><td>Ouran High School Host Club, Vol. 15 (Ouran High School Host Club, #15)</td><td>4.54</td></tr>",
                            "<tr><td>5</td><td>J.K. Rowling, Mary GrandPré, Rufus Beck</td><td>Harry Potter and the Prisoner of Azkaban (Harry Potter, #3)</td><td>4.53</td></tr>",
                            "<tr><td>6</td><td>J.K. Rowling, Mary GrandPré</td><td>Harry Potter and the Goblet of Fire (Harry Potter, #4)</td><td>4.53</td></tr>",
                            "<tr><td>20613470</td><td>Sarah J. Maas</td><td>Heir of Fire (Throne of Glass, #3)</td><td>4.53</td></tr>",
                            "<tr><td>15195</td><td>Art Spiegelman</td><td>The Complete Maus (Maus, #1-2)</td><td>4.53</td></tr>",
                            "<tr><td>25104</td><td>Neil Gaiman, Michael Zulli, Jon J. Muth, Charles Vess, Mikal Gilmore</td><td>The Wake (The Sandman #10)</td><td>4.53</td></tr>",
                            "</table>"
                        ]
                    }
                }
            ],
            "execution_count": 20
        },
        {
            "cell_type": "markdown",
            "source": [
                "Question 2: Write a query to find the least popular book."
            ],
            "metadata": {
                "azdata_cell_guid": "777429b8-8622-489d-9c49-e2acecd7f17e"
            },
            "attachments": {}
        },
        {
            "cell_type": "code",
            "source": [
                "-- return least popular book\n",
                "-- One Night at the Call center - Chetan Bhagat\n",
                "Select top 100 book_id,authors,title,average_rating as rating From BooksDB.dbo.books \n",
                "order by rating"
            ],
            "metadata": {
                "azdata_cell_guid": "c78a1779-db74-470f-a60a-7c72a43d774b",
                "language": "sql"
            },
            "outputs": [
                {
                    "output_type": "display_data",
                    "data": {
                        "text/html": "(100 rows affected)"
                    },
                    "metadata": {}
                },
                {
                    "output_type": "display_data",
                    "data": {
                        "text/html": "Total execution time: 00:00:00.262"
                    },
                    "metadata": {}
                },
                {
                    "output_type": "execute_result",
                    "metadata": {},
                    "execution_count": 21,
                    "data": {
                        "application/vnd.dataresource+json": {
                            "schema": {
                                "fields": [
                                    {
                                        "name": "book_id"
                                    },
                                    {
                                        "name": "authors"
                                    },
                                    {
                                        "name": "title"
                                    },
                                    {
                                        "name": "rating"
                                    }
                                ]
                            },
                            "data": [
                                {
                                    "0": "105578",
                                    "1": "Chetan Bhagat",
                                    "2": "One Night at the Call Center",
                                    "3": "2.47"
                                },
                                {
                                    "0": "783291",
                                    "1": "Alice Sebold",
                                    "2": "The Almost Moon",
                                    "3": "2.67"
                                },
                                {
                                    "0": "8664368",
                                    "1": "Howard Jacobson",
                                    "2": "The Finkler Question",
                                    "3": "2.76"
                                },
                                {
                                    "0": "6613",
                                    "1": "Candace Bushnell",
                                    "2": "Four Blondes",
                                    "3": "2.8"
                                },
                                {
                                    "0": "24929",
                                    "1": "Gregory Maguire, Douglas Smith",
                                    "2": "Lost",
                                    "3": "2.8"
                                },
                                {
                                    "0": "16130307",
                                    "1": "Lauren Weisberger",
                                    "2": "Revenge Wears Prada: The Devil Returns (The Devil Wears Prada, #2)",
                                    "3": "2.84"
                                },
                                {
                                    "0": "23503361",
                                    "1": "Julia Pierpont",
                                    "2": "Among the Ten Thousand Things",
                                    "3": "2.84"
                                },
                                {
                                    "0": "6855294",
                                    "1": "Chuck Palahniuk",
                                    "2": "Tell-All",
                                    "3": "2.84"
                                },
                                {
                                    "0": "3648",
                                    "1": "Claire Messud",
                                    "2": "The Emperor's Children",
                                    "3": "2.93"
                                },
                                {
                                    "0": "12878667",
                                    "1": "Mark Haddon",
                                    "2": "The Red House",
                                    "3": "2.93"
                                },
                                {
                                    "0": "4601396",
                                    "1": "Chuck Palahniuk",
                                    "2": "Pygmy",
                                    "3": "2.96"
                                },
                                {
                                    "0": "3320520",
                                    "1": "Chetan Bhagat",
                                    "2": "The 3 Mistakes of My Life",
                                    "3": "2.97"
                                },
                                {
                                    "0": "19523454",
                                    "1": "Chuck Palahniuk",
                                    "2": "Beautiful You",
                                    "3": "2.98"
                                },
                                {
                                    "0": "5557442",
                                    "1": "يوسف زيدان",
                                    "2": "ظل الأفعى",
                                    "3": "3"
                                },
                                {
                                    "0": "20819682",
                                    "1": "Paulo Coelho",
                                    "2": "Adultery",
                                    "3": "3.01"
                                },
                                {
                                    "0": "12712435",
                                    "1": "Maggie Shipstead",
                                    "2": "Seating Arrangements",
                                    "3": "3.02"
                                },
                                {
                                    "0": "998133",
                                    "1": "Anne Enright",
                                    "2": "The Gathering",
                                    "3": "3.04"
                                },
                                {
                                    "0": "7824768",
                                    "1": "خالد الباتلي",
                                    "2": "ليتها تقرأ",
                                    "3": "3.04"
                                },
                                {
                                    "0": "23492673",
                                    "1": "Wednesday Martin",
                                    "2": "Primates of Park Avenue",
                                    "3": "3.05"
                                },
                                {
                                    "0": "12615008",
                                    "1": "Chetan Bhagat",
                                    "2": "Revolution 2020: Love, Corruption, Ambition",
                                    "3": "3.07"
                                },
                                {
                                    "0": "2152",
                                    "1": "Karen Joy Fowler",
                                    "2": "The Jane Austen Book Club",
                                    "3": "3.07"
                                },
                                {
                                    "0": "14963",
                                    "1": "Anita Shreve",
                                    "2": "A Wedding in December",
                                    "3": "3.08"
                                },
                                {
                                    "0": "18453074",
                                    "1": "Joshua Ferris",
                                    "2": "To Rise Again at a Decent Hour",
                                    "3": "3.08"
                                },
                                {
                                    "0": "15613",
                                    "1": "Herman Melville",
                                    "2": "Billy Budd, Sailor",
                                    "3": "3.09"
                                },
                                {
                                    "0": "6976",
                                    "1": "Sue Monk Kidd",
                                    "2": "The Mermaid Chair",
                                    "3": "3.1"
                                },
                                {
                                    "0": "13489517",
                                    "1": "أحمد حلمي",
                                    "2": "28 حرف",
                                    "3": "3.1"
                                },
                                {
                                    "0": "4530",
                                    "1": "Helen Fielding",
                                    "2": "Olivia Joules and the Overactive Imagination",
                                    "3": "3.1"
                                },
                                {
                                    "0": "18465657",
                                    "1": "Emily Giffin",
                                    "2": "The One & Only",
                                    "3": "3.11"
                                },
                                {
                                    "0": "10047589",
                                    "1": "Jennifer Close",
                                    "2": "Girls in White Dresses",
                                    "3": "3.12"
                                },
                                {
                                    "0": "18656036",
                                    "1": "Megan Abbott",
                                    "2": "The Fever",
                                    "3": "3.12"
                                },
                                {
                                    "0": "54270",
                                    "1": "Adolf Hitler",
                                    "2": "Mein Kampf",
                                    "3": "3.13"
                                },
                                {
                                    "0": "18295858",
                                    "1": "Emma Donoghue",
                                    "2": "Frog Music",
                                    "3": "3.13"
                                },
                                {
                                    "0": "7176578",
                                    "1": "Yann Martel",
                                    "2": "Beatrice and Virgil",
                                    "3": "3.13"
                                },
                                {
                                    "0": "18641982",
                                    "1": "Emma Straub",
                                    "2": "The Vacationers",
                                    "3": "3.14"
                                },
                                {
                                    "0": "6076387",
                                    "1": "Lorrie Moore",
                                    "2": "A Gate at the Stairs",
                                    "3": "3.14"
                                },
                                {
                                    "0": "7519866",
                                    "1": "Bret Easton Ellis",
                                    "2": "Imperial Bedrooms ",
                                    "3": "3.14"
                                },
                                {
                                    "0": "13151283",
                                    "1": "محمد صادق",
                                    "2": "بضع ساعات في يوم ما",
                                    "3": "3.14"
                                },
                                {
                                    "0": "3710",
                                    "1": "Zadie Smith",
                                    "2": "The Autograph Man",
                                    "3": "3.14"
                                },
                                {
                                    "0": "25131600",
                                    "1": "Chuck Wendig",
                                    "2": "Aftermath (Star Wars: Aftermath, #1)",
                                    "3": "3.15"
                                },
                                {
                                    "0": "22874559",
                                    "1": "Chetan Bhagat",
                                    "2": "Half Girlfriend",
                                    "3": "3.16"
                                },
                                {
                                    "0": "5396496",
                                    "1": "Christos Tsiolkas",
                                    "2": "The Slap",
                                    "3": "3.16"
                                },
                                {
                                    "0": "16076787",
                                    "1": "أحمد خالد توفيق",
                                    "2": "السنجة",
                                    "3": "3.16"
                                },
                                {
                                    "0": "10209997",
                                    "1": "Chris Bohjalian",
                                    "2": "The Night Strangers",
                                    "3": "3.16"
                                },
                                {
                                    "0": "6365221",
                                    "1": "Rhoda Janzen",
                                    "2": "Mennonite in a Little Black Dress: A Memoir of Going Home",
                                    "3": "3.17"
                                },
                                {
                                    "0": "1476261",
                                    "1": "Rajaa Alsanea",
                                    "2": "Girls of Riyadh",
                                    "3": "3.17"
                                },
                                {
                                    "0": "1840511",
                                    "1": "Chuck Palahniuk",
                                    "2": "Snuff",
                                    "3": "3.18"
                                },
                                {
                                    "0": "4268",
                                    "1": "Nick Hornby",
                                    "2": "How to Be Good",
                                    "3": "3.18"
                                },
                                {
                                    "0": "12923",
                                    "1": "Horace Walpole",
                                    "2": "The Castle of Otranto",
                                    "3": "3.18"
                                },
                                {
                                    "0": "443540",
                                    "1": "Anita Shreve",
                                    "2": "All He Ever Wanted",
                                    "3": "3.18"
                                },
                                {
                                    "0": "7048800",
                                    "1": "Aimee Bender",
                                    "2": "The Particular Sadness of Lemon Cake",
                                    "3": "3.19"
                                },
                                {
                                    "0": "28449270",
                                    "1": "Maria Semple",
                                    "2": "Today Will Be Different",
                                    "3": "3.19"
                                },
                                {
                                    "0": "10914",
                                    "1": "Jodi Picoult",
                                    "2": "Songs of the Humpback Whale",
                                    "3": "3.19"
                                },
                                {
                                    "0": "178813",
                                    "1": "Candace Bushnell",
                                    "2": "Trading Up",
                                    "3": "3.2"
                                },
                                {
                                    "0": "12888599",
                                    "1": "Charlotte Rogan",
                                    "2": "The Lifeboat",
                                    "3": "3.2"
                                },
                                {
                                    "0": "28700",
                                    "1": "Don DeLillo, محمدصادق رئیسی",
                                    "2": "Falling Man",
                                    "3": "3.2"
                                },
                                {
                                    "0": "35220",
                                    "1": "Stephen Crane",
                                    "2": "The Red Badge of Courage",
                                    "3": "3.21"
                                },
                                {
                                    "0": "12875355",
                                    "1": "P.D. James",
                                    "2": "Death Comes to Pemberley",
                                    "3": "3.21"
                                },
                                {
                                    "0": "8584686",
                                    "1": "Karen Russell",
                                    "2": "Swamplandia!",
                                    "3": "3.21"
                                },
                                {
                                    "0": "18316089",
                                    "1": "Amy Bloom",
                                    "2": "Lucky Us",
                                    "3": "3.21"
                                },
                                {
                                    "0": "7011879",
                                    "1": "Durjoy Datta, Maanvi Ahuja",
                                    "2": "Of Course I Love You...! Till I Find Someone Better...",
                                    "3": "3.21"
                                },
                                {
                                    "0": "52367",
                                    "1": "Frank Miller, Lynn Varley",
                                    "2": "Batman: The Dark Knight Strikes Again (The Dark Knight Saga, #2)",
                                    "3": "3.21"
                                },
                                {
                                    "0": "15797938",
                                    "1": "Herman Koch, Sam Garrett",
                                    "2": "The Dinner",
                                    "3": "3.22"
                                },
                                {
                                    "0": "18431",
                                    "1": "Ian Caldwell, Dustin Thomason",
                                    "2": "The Rule of Four",
                                    "3": "3.22"
                                },
                                {
                                    "0": "18774020",
                                    "1": "Edan Lepucki",
                                    "2": "California",
                                    "3": "3.22"
                                },
                                {
                                    "0": "28703",
                                    "1": "Don DeLillo",
                                    "2": "Cosmopolis",
                                    "3": "3.22"
                                },
                                {
                                    "0": "4660",
                                    "1": "John Irving",
                                    "2": "The 158-Pound Marriage",
                                    "3": "3.22"
                                },
                                {
                                    "0": "6202342",
                                    "1": "Audrey Niffenegger",
                                    "2": "Her Fearful Symmetry",
                                    "3": "3.23"
                                },
                                {
                                    "0": "7140754",
                                    "1": "Ian McEwan",
                                    "2": "Solar",
                                    "3": "3.23"
                                },
                                {
                                    "0": "12982393",
                                    "1": "Megan Abbott",
                                    "2": "Dare Me",
                                    "3": "3.23"
                                },
                                {
                                    "0": "1402668",
                                    "1": "Madeleine Wickham",
                                    "2": "The Gatecrasher",
                                    "3": "3.24"
                                },
                                {
                                    "0": "8318666",
                                    "1": "Jean M. Auel",
                                    "2": "The Land of Painted Caves (Earth's Children, #6)",
                                    "3": "3.24"
                                },
                                {
                                    "0": "21064599",
                                    "1": "Sophie Kinsella",
                                    "2": "Shopaholic to the Stars (Shopaholic, #7)",
                                    "3": "3.24"
                                },
                                {
                                    "0": "194086",
                                    "1": "Madeleine Wickham",
                                    "2": "Sleeping Arrangements",
                                    "3": "3.24"
                                },
                                {
                                    "0": "347143",
                                    "1": "Tom Perrotta",
                                    "2": "The Abstinence Teacher",
                                    "3": "3.24"
                                },
                                {
                                    "0": "17412188",
                                    "1": "S.J. Watson",
                                    "2": "Second Life",
                                    "3": "3.24"
                                },
                                {
                                    "0": "18090150",
                                    "1": "Isabel Allende, Oliver Brock, Frank Wynne",
                                    "2": "Ripper",
                                    "3": "3.24"
                                },
                                {
                                    "0": "22725443",
                                    "1": "Jill Alexander Essbaum",
                                    "2": "Hausfrau",
                                    "3": "3.24"
                                },
                                {
                                    "0": "4929705",
                                    "1": "Robert Goolrick",
                                    "2": "A Reliable Wife",
                                    "3": "3.25"
                                },
                                {
                                    "0": "207034",
                                    "1": "Jeanne DuPrau",
                                    "2": "The Prophet of Yonwood (Book of Ember, #3)",
                                    "3": "3.25"
                                },
                                {
                                    "0": "10365343",
                                    "1": "Colson Whitehead",
                                    "2": "Zone One",
                                    "3": "3.25"
                                },
                                {
                                    "0": "381704",
                                    "1": "Plum Sykes",
                                    "2": "Bergdorf Blondes",
                                    "3": "3.26"
                                },
                                {
                                    "0": "16131193",
                                    "1": "Lily Koppel",
                                    "2": "The Astronaut Wives Club",
                                    "3": "3.26"
                                },
                                {
                                    "0": "31333",
                                    "1": "Anne Rice",
                                    "2": "Violin",
                                    "3": "3.26"
                                },
                                {
                                    "0": "15858",
                                    "1": "Gregory Maguire",
                                    "2": "Mirror Mirror",
                                    "3": "3.27"
                                },
                                {
                                    "0": "411527",
                                    "1": "Nick Hornby",
                                    "2": "Slam",
                                    "3": "3.27"
                                },
                                {
                                    "0": "13497818",
                                    "1": "J.K. Rowling",
                                    "2": "The Casual Vacancy",
                                    "3": "3.28"
                                },
                                {
                                    "0": "5899779",
                                    "1": "Seth Grahame-Smith, Jane Austen",
                                    "2": "Pride and Prejudice and Zombies (Pride and Prejudice and Zombies, #1)",
                                    "3": "3.28"
                                },
                                {
                                    "0": "26582",
                                    "1": "A.N. Roquelaure, Anne Rice",
                                    "2": "The Claiming of Sleeping Beauty (Sleeping Beauty, #1)",
                                    "3": "3.28"
                                },
                                {
                                    "0": "26192646",
                                    "1": "Stephanie Danler",
                                    "2": "Sweetbitter",
                                    "3": "3.28"
                                },
                                {
                                    "0": "10574",
                                    "1": "Stephen King",
                                    "2": "The Colorado Kid (Hard Case Crime #13)",
                                    "3": "3.28"
                                },
                                {
                                    "0": "16188",
                                    "1": "Philippa Gregory",
                                    "2": "Wideacre  (The Wideacre Trilogy, #1)",
                                    "3": "3.28"
                                },
                                {
                                    "0": "392217",
                                    "1": "Patricia Cornwell",
                                    "2": "Hornet's Nest (Andy Brazil, #1)",
                                    "3": "3.28"
                                },
                                {
                                    "0": "2508164",
                                    "1": "Tonya Hurley",
                                    "2": "Ghostgirl (Ghostgirl, #1)",
                                    "3": "3.28"
                                },
                                {
                                    "0": "6922622",
                                    "1": "Sarah Palin, Lynn Vincent, Dewey Whetsell",
                                    "2": "Going Rogue: An American Life",
                                    "3": "3.28"
                                },
                                {
                                    "0": "33926",
                                    "1": "Melissa Bank",
                                    "2": "The Girls' Guide to Hunting and Fishing",
                                    "3": "3.29"
                                },
                                {
                                    "0": "13722902",
                                    "1": "Dave Eggers",
                                    "2": "A Hologram for the King",
                                    "3": "3.29"
                                },
                                {
                                    "0": "3124249",
                                    "1": "Gregory Maguire, Douglas Smith",
                                    "2": "A Lion Among Men (The Wicked Years, #3)",
                                    "3": "3.29"
                                },
                                {
                                    "0": "11166890",
                                    "1": "Dean Koontz",
                                    "2": "77 Shadow Street (Pendleton, #1)",
                                    "3": "3.29"
                                },
                                {
                                    "0": "70509",
                                    "1": "Gary Shteyngart",
                                    "2": "Absurdistan",
                                    "3": "3.29"
                                },
                                {
                                    "0": "17182421",
                                    "1": "Jason Mott",
                                    "2": "The Returned",
                                    "3": "3.29"
                                }
                            ]
                        },
                        "text/html": [
                            "<table>",
                            "<tr><th>book_id</th><th>authors</th><th>title</th><th>rating</th></tr>",
                            "<tr><td>105578</td><td>Chetan Bhagat</td><td>One Night at the Call Center</td><td>2.47</td></tr>",
                            "<tr><td>783291</td><td>Alice Sebold</td><td>The Almost Moon</td><td>2.67</td></tr>",
                            "<tr><td>8664368</td><td>Howard Jacobson</td><td>The Finkler Question</td><td>2.76</td></tr>",
                            "<tr><td>6613</td><td>Candace Bushnell</td><td>Four Blondes</td><td>2.8</td></tr>",
                            "<tr><td>24929</td><td>Gregory Maguire, Douglas Smith</td><td>Lost</td><td>2.8</td></tr>",
                            "<tr><td>16130307</td><td>Lauren Weisberger</td><td>Revenge Wears Prada: The Devil Returns (The Devil Wears Prada, #2)</td><td>2.84</td></tr>",
                            "<tr><td>23503361</td><td>Julia Pierpont</td><td>Among the Ten Thousand Things</td><td>2.84</td></tr>",
                            "<tr><td>6855294</td><td>Chuck Palahniuk</td><td>Tell-All</td><td>2.84</td></tr>",
                            "<tr><td>3648</td><td>Claire Messud</td><td>The Emperor's Children</td><td>2.93</td></tr>",
                            "<tr><td>12878667</td><td>Mark Haddon</td><td>The Red House</td><td>2.93</td></tr>",
                            "<tr><td>4601396</td><td>Chuck Palahniuk</td><td>Pygmy</td><td>2.96</td></tr>",
                            "<tr><td>3320520</td><td>Chetan Bhagat</td><td>The 3 Mistakes of My Life</td><td>2.97</td></tr>",
                            "<tr><td>19523454</td><td>Chuck Palahniuk</td><td>Beautiful You</td><td>2.98</td></tr>",
                            "<tr><td>5557442</td><td>يوسف زيدان</td><td>ظل الأفعى</td><td>3</td></tr>",
                            "<tr><td>20819682</td><td>Paulo Coelho</td><td>Adultery</td><td>3.01</td></tr>",
                            "<tr><td>12712435</td><td>Maggie Shipstead</td><td>Seating Arrangements</td><td>3.02</td></tr>",
                            "<tr><td>998133</td><td>Anne Enright</td><td>The Gathering</td><td>3.04</td></tr>",
                            "<tr><td>7824768</td><td>خالد الباتلي</td><td>ليتها تقرأ</td><td>3.04</td></tr>",
                            "<tr><td>23492673</td><td>Wednesday Martin</td><td>Primates of Park Avenue</td><td>3.05</td></tr>",
                            "<tr><td>12615008</td><td>Chetan Bhagat</td><td>Revolution 2020: Love, Corruption, Ambition</td><td>3.07</td></tr>",
                            "<tr><td>2152</td><td>Karen Joy Fowler</td><td>The Jane Austen Book Club</td><td>3.07</td></tr>",
                            "<tr><td>14963</td><td>Anita Shreve</td><td>A Wedding in December</td><td>3.08</td></tr>",
                            "<tr><td>18453074</td><td>Joshua Ferris</td><td>To Rise Again at a Decent Hour</td><td>3.08</td></tr>",
                            "<tr><td>15613</td><td>Herman Melville</td><td>Billy Budd, Sailor</td><td>3.09</td></tr>",
                            "<tr><td>6976</td><td>Sue Monk Kidd</td><td>The Mermaid Chair</td><td>3.1</td></tr>",
                            "<tr><td>13489517</td><td>أحمد حلمي</td><td>28 حرف</td><td>3.1</td></tr>",
                            "<tr><td>4530</td><td>Helen Fielding</td><td>Olivia Joules and the Overactive Imagination</td><td>3.1</td></tr>",
                            "<tr><td>18465657</td><td>Emily Giffin</td><td>The One &amp; Only</td><td>3.11</td></tr>",
                            "<tr><td>10047589</td><td>Jennifer Close</td><td>Girls in White Dresses</td><td>3.12</td></tr>",
                            "<tr><td>18656036</td><td>Megan Abbott</td><td>The Fever</td><td>3.12</td></tr>",
                            "<tr><td>54270</td><td>Adolf Hitler</td><td>Mein Kampf</td><td>3.13</td></tr>",
                            "<tr><td>18295858</td><td>Emma Donoghue</td><td>Frog Music</td><td>3.13</td></tr>",
                            "<tr><td>7176578</td><td>Yann Martel</td><td>Beatrice and Virgil</td><td>3.13</td></tr>",
                            "<tr><td>18641982</td><td>Emma Straub</td><td>The Vacationers</td><td>3.14</td></tr>",
                            "<tr><td>6076387</td><td>Lorrie Moore</td><td>A Gate at the Stairs</td><td>3.14</td></tr>",
                            "<tr><td>7519866</td><td>Bret Easton Ellis</td><td>Imperial Bedrooms </td><td>3.14</td></tr>",
                            "<tr><td>13151283</td><td>محمد صادق</td><td>بضع ساعات في يوم ما</td><td>3.14</td></tr>",
                            "<tr><td>3710</td><td>Zadie Smith</td><td>The Autograph Man</td><td>3.14</td></tr>",
                            "<tr><td>25131600</td><td>Chuck Wendig</td><td>Aftermath (Star Wars: Aftermath, #1)</td><td>3.15</td></tr>",
                            "<tr><td>22874559</td><td>Chetan Bhagat</td><td>Half Girlfriend</td><td>3.16</td></tr>",
                            "<tr><td>5396496</td><td>Christos Tsiolkas</td><td>The Slap</td><td>3.16</td></tr>",
                            "<tr><td>16076787</td><td>أحمد خالد توفيق</td><td>السنجة</td><td>3.16</td></tr>",
                            "<tr><td>10209997</td><td>Chris Bohjalian</td><td>The Night Strangers</td><td>3.16</td></tr>",
                            "<tr><td>6365221</td><td>Rhoda Janzen</td><td>Mennonite in a Little Black Dress: A Memoir of Going Home</td><td>3.17</td></tr>",
                            "<tr><td>1476261</td><td>Rajaa Alsanea</td><td>Girls of Riyadh</td><td>3.17</td></tr>",
                            "<tr><td>1840511</td><td>Chuck Palahniuk</td><td>Snuff</td><td>3.18</td></tr>",
                            "<tr><td>4268</td><td>Nick Hornby</td><td>How to Be Good</td><td>3.18</td></tr>",
                            "<tr><td>12923</td><td>Horace Walpole</td><td>The Castle of Otranto</td><td>3.18</td></tr>",
                            "<tr><td>443540</td><td>Anita Shreve</td><td>All He Ever Wanted</td><td>3.18</td></tr>",
                            "<tr><td>7048800</td><td>Aimee Bender</td><td>The Particular Sadness of Lemon Cake</td><td>3.19</td></tr>",
                            "<tr><td>28449270</td><td>Maria Semple</td><td>Today Will Be Different</td><td>3.19</td></tr>",
                            "<tr><td>10914</td><td>Jodi Picoult</td><td>Songs of the Humpback Whale</td><td>3.19</td></tr>",
                            "<tr><td>178813</td><td>Candace Bushnell</td><td>Trading Up</td><td>3.2</td></tr>",
                            "<tr><td>12888599</td><td>Charlotte Rogan</td><td>The Lifeboat</td><td>3.2</td></tr>",
                            "<tr><td>28700</td><td>Don DeLillo, محمدصادق رئیسی</td><td>Falling Man</td><td>3.2</td></tr>",
                            "<tr><td>35220</td><td>Stephen Crane</td><td>The Red Badge of Courage</td><td>3.21</td></tr>",
                            "<tr><td>12875355</td><td>P.D. James</td><td>Death Comes to Pemberley</td><td>3.21</td></tr>",
                            "<tr><td>8584686</td><td>Karen Russell</td><td>Swamplandia!</td><td>3.21</td></tr>",
                            "<tr><td>18316089</td><td>Amy Bloom</td><td>Lucky Us</td><td>3.21</td></tr>",
                            "<tr><td>7011879</td><td>Durjoy Datta, Maanvi Ahuja</td><td>Of Course I Love You...! Till I Find Someone Better...</td><td>3.21</td></tr>",
                            "<tr><td>52367</td><td>Frank Miller, Lynn Varley</td><td>Batman: The Dark Knight Strikes Again (The Dark Knight Saga, #2)</td><td>3.21</td></tr>",
                            "<tr><td>15797938</td><td>Herman Koch, Sam Garrett</td><td>The Dinner</td><td>3.22</td></tr>",
                            "<tr><td>18431</td><td>Ian Caldwell, Dustin Thomason</td><td>The Rule of Four</td><td>3.22</td></tr>",
                            "<tr><td>18774020</td><td>Edan Lepucki</td><td>California</td><td>3.22</td></tr>",
                            "<tr><td>28703</td><td>Don DeLillo</td><td>Cosmopolis</td><td>3.22</td></tr>",
                            "<tr><td>4660</td><td>John Irving</td><td>The 158-Pound Marriage</td><td>3.22</td></tr>",
                            "<tr><td>6202342</td><td>Audrey Niffenegger</td><td>Her Fearful Symmetry</td><td>3.23</td></tr>",
                            "<tr><td>7140754</td><td>Ian McEwan</td><td>Solar</td><td>3.23</td></tr>",
                            "<tr><td>12982393</td><td>Megan Abbott</td><td>Dare Me</td><td>3.23</td></tr>",
                            "<tr><td>1402668</td><td>Madeleine Wickham</td><td>The Gatecrasher</td><td>3.24</td></tr>",
                            "<tr><td>8318666</td><td>Jean M. Auel</td><td>The Land of Painted Caves (Earth's Children, #6)</td><td>3.24</td></tr>",
                            "<tr><td>21064599</td><td>Sophie Kinsella</td><td>Shopaholic to the Stars (Shopaholic, #7)</td><td>3.24</td></tr>",
                            "<tr><td>194086</td><td>Madeleine Wickham</td><td>Sleeping Arrangements</td><td>3.24</td></tr>",
                            "<tr><td>347143</td><td>Tom Perrotta</td><td>The Abstinence Teacher</td><td>3.24</td></tr>",
                            "<tr><td>17412188</td><td>S.J. Watson</td><td>Second Life</td><td>3.24</td></tr>",
                            "<tr><td>18090150</td><td>Isabel Allende, Oliver Brock, Frank Wynne</td><td>Ripper</td><td>3.24</td></tr>",
                            "<tr><td>22725443</td><td>Jill Alexander Essbaum</td><td>Hausfrau</td><td>3.24</td></tr>",
                            "<tr><td>4929705</td><td>Robert Goolrick</td><td>A Reliable Wife</td><td>3.25</td></tr>",
                            "<tr><td>207034</td><td>Jeanne DuPrau</td><td>The Prophet of Yonwood (Book of Ember, #3)</td><td>3.25</td></tr>",
                            "<tr><td>10365343</td><td>Colson Whitehead</td><td>Zone One</td><td>3.25</td></tr>",
                            "<tr><td>381704</td><td>Plum Sykes</td><td>Bergdorf Blondes</td><td>3.26</td></tr>",
                            "<tr><td>16131193</td><td>Lily Koppel</td><td>The Astronaut Wives Club</td><td>3.26</td></tr>",
                            "<tr><td>31333</td><td>Anne Rice</td><td>Violin</td><td>3.26</td></tr>",
                            "<tr><td>15858</td><td>Gregory Maguire</td><td>Mirror Mirror</td><td>3.27</td></tr>",
                            "<tr><td>411527</td><td>Nick Hornby</td><td>Slam</td><td>3.27</td></tr>",
                            "<tr><td>13497818</td><td>J.K. Rowling</td><td>The Casual Vacancy</td><td>3.28</td></tr>",
                            "<tr><td>5899779</td><td>Seth Grahame-Smith, Jane Austen</td><td>Pride and Prejudice and Zombies (Pride and Prejudice and Zombies, #1)</td><td>3.28</td></tr>",
                            "<tr><td>26582</td><td>A.N. Roquelaure, Anne Rice</td><td>The Claiming of Sleeping Beauty (Sleeping Beauty, #1)</td><td>3.28</td></tr>",
                            "<tr><td>26192646</td><td>Stephanie Danler</td><td>Sweetbitter</td><td>3.28</td></tr>",
                            "<tr><td>10574</td><td>Stephen King</td><td>The Colorado Kid (Hard Case Crime #13)</td><td>3.28</td></tr>",
                            "<tr><td>16188</td><td>Philippa Gregory</td><td>Wideacre  (The Wideacre Trilogy, #1)</td><td>3.28</td></tr>",
                            "<tr><td>392217</td><td>Patricia Cornwell</td><td>Hornet's Nest (Andy Brazil, #1)</td><td>3.28</td></tr>",
                            "<tr><td>2508164</td><td>Tonya Hurley</td><td>Ghostgirl (Ghostgirl, #1)</td><td>3.28</td></tr>",
                            "<tr><td>6922622</td><td>Sarah Palin, Lynn Vincent, Dewey Whetsell</td><td>Going Rogue: An American Life</td><td>3.28</td></tr>",
                            "<tr><td>33926</td><td>Melissa Bank</td><td>The Girls' Guide to Hunting and Fishing</td><td>3.29</td></tr>",
                            "<tr><td>13722902</td><td>Dave Eggers</td><td>A Hologram for the King</td><td>3.29</td></tr>",
                            "<tr><td>3124249</td><td>Gregory Maguire, Douglas Smith</td><td>A Lion Among Men (The Wicked Years, #3)</td><td>3.29</td></tr>",
                            "<tr><td>11166890</td><td>Dean Koontz</td><td>77 Shadow Street (Pendleton, #1)</td><td>3.29</td></tr>",
                            "<tr><td>70509</td><td>Gary Shteyngart</td><td>Absurdistan</td><td>3.29</td></tr>",
                            "<tr><td>17182421</td><td>Jason Mott</td><td>The Returned</td><td>3.29</td></tr>",
                            "</table>"
                        ]
                    }
                }
            ],
            "execution_count": 21
        },
        {
            "cell_type": "markdown",
            "source": [
                "Question 3: Which tag is the most popular?"
            ],
            "metadata": {
                "azdata_cell_guid": "a370909d-5d64-49e2-8fec-5220730c8ca7"
            },
            "attachments": {}
        },
        {
            "cell_type": "code",
            "source": [
                "-- return most popular tag\n",
                "--most popular tag 30574\n",
                "select top 10 * from BooksDB.dbo.book_tags\n",
                "order by count desc "
            ],
            "metadata": {
                "azdata_cell_guid": "9e0451dc-c4d3-4775-9eb1-904854f459ff",
                "tags": [],
                "language": "sql"
            },
            "outputs": [
                {
                    "output_type": "display_data",
                    "data": {
                        "text/html": "(10 rows affected)"
                    },
                    "metadata": {}
                },
                {
                    "output_type": "display_data",
                    "data": {
                        "text/html": "Total execution time: 00:00:00.334"
                    },
                    "metadata": {}
                },
                {
                    "output_type": "execute_result",
                    "metadata": {},
                    "execution_count": 25,
                    "data": {
                        "application/vnd.dataresource+json": {
                            "schema": {
                                "fields": [
                                    {
                                        "name": "goodreads_book_id"
                                    },
                                    {
                                        "name": "tag_id"
                                    },
                                    {
                                        "name": "count"
                                    }
                                ]
                            },
                            "data": [
                                {
                                    "0": "865",
                                    "1": "30574",
                                    "2": "596234"
                                },
                                {
                                    "0": "2429135",
                                    "1": "30574",
                                    "2": "586235"
                                },
                                {
                                    "0": "18143977",
                                    "1": "30574",
                                    "2": "505884"
                                },
                                {
                                    "0": "3",
                                    "1": "30574",
                                    "2": "496107"
                                },
                                {
                                    "0": "24280",
                                    "1": "30574",
                                    "2": "488469"
                                },
                                {
                                    "0": "11235712",
                                    "1": "30574",
                                    "2": "474954"
                                },
                                {
                                    "0": "168668",
                                    "1": "30574",
                                    "2": "465640"
                                },
                                {
                                    "0": "18405",
                                    "1": "30574",
                                    "2": "454565"
                                },
                                {
                                    "0": "4981",
                                    "1": "30574",
                                    "2": "443942"
                                },
                                {
                                    "0": "930",
                                    "1": "30574",
                                    "2": "436097"
                                }
                            ]
                        },
                        "text/html": [
                            "<table>",
                            "<tr><th>goodreads_book_id</th><th>tag_id</th><th>count</th></tr>",
                            "<tr><td>865</td><td>30574</td><td>596234</td></tr>",
                            "<tr><td>2429135</td><td>30574</td><td>586235</td></tr>",
                            "<tr><td>18143977</td><td>30574</td><td>505884</td></tr>",
                            "<tr><td>3</td><td>30574</td><td>496107</td></tr>",
                            "<tr><td>24280</td><td>30574</td><td>488469</td></tr>",
                            "<tr><td>11235712</td><td>30574</td><td>474954</td></tr>",
                            "<tr><td>168668</td><td>30574</td><td>465640</td></tr>",
                            "<tr><td>18405</td><td>30574</td><td>454565</td></tr>",
                            "<tr><td>4981</td><td>30574</td><td>443942</td></tr>",
                            "<tr><td>930</td><td>30574</td><td>436097</td></tr>",
                            "</table>"
                        ]
                    }
                }
            ],
            "execution_count": 25
        },
        {
            "cell_type": "markdown",
            "source": [
                "Question 4: What is the name of the most popular tag?\n",
                "\n",
                "To-read"
            ],
            "metadata": {
                "azdata_cell_guid": "3cdfa7e6-c5a6-49fb-aa27-afeece881627"
            },
            "attachments": {}
        },
        {
            "cell_type": "code",
            "source": [
                "-- return name of most popular tag\n",
                "select * from booksDB.dbo.tags\n",
                "where tag_id=30574"
            ],
            "metadata": {
                "azdata_cell_guid": "3cd3a3ec-4ce2-49b6-b714-44179eed00e1",
                "language": "sql",
                "tags": []
            },
            "outputs": [
                {
                    "output_type": "display_data",
                    "data": {
                        "text/html": "(1 row affected)"
                    },
                    "metadata": {}
                },
                {
                    "output_type": "display_data",
                    "data": {
                        "text/html": "Total execution time: 00:00:00.040"
                    },
                    "metadata": {}
                },
                {
                    "output_type": "execute_result",
                    "metadata": {},
                    "execution_count": 28,
                    "data": {
                        "application/vnd.dataresource+json": {
                            "schema": {
                                "fields": [
                                    {
                                        "name": "tag_id"
                                    },
                                    {
                                        "name": "tag_name"
                                    }
                                ]
                            },
                            "data": [
                                {
                                    "0": "30574",
                                    "1": "to-read"
                                }
                            ]
                        },
                        "text/html": [
                            "<table>",
                            "<tr><th>tag_id</th><th>tag_name</th></tr>",
                            "<tr><td>30574</td><td>to-read</td></tr>",
                            "</table>"
                        ]
                    }
                }
            ],
            "execution_count": 28
        },
        {
            "cell_type": "markdown",
            "source": [
                "Question 5: How many books where released in the first decade of 2000?"
            ],
            "metadata": {
                "azdata_cell_guid": "b3962545-c0c2-47ca-a3c4-299c2c0a4b0c"
            },
            "attachments": {}
        },
        {
            "cell_type": "code",
            "source": [
                "-- return number of books published in the first decade of 2000\n",
                "select count(*) from booksDB.dbo.books\n",
                "where original_publication_year between 2000 and 2010\n",
                ""
            ],
            "metadata": {
                "azdata_cell_guid": "8dcd65e9-1b3e-4cf8-b726-26729a1225f2",
                "language": "sql",
                "tags": []
            },
            "outputs": [
                {
                    "output_type": "display_data",
                    "data": {
                        "text/html": "(1 row affected)"
                    },
                    "metadata": {}
                },
                {
                    "output_type": "display_data",
                    "data": {
                        "text/html": "Total execution time: 00:00:00.048"
                    },
                    "metadata": {}
                },
                {
                    "output_type": "execute_result",
                    "metadata": {},
                    "execution_count": 33,
                    "data": {
                        "application/vnd.dataresource+json": {
                            "schema": {
                                "fields": [
                                    {
                                        "name": "(No column name)"
                                    }
                                ]
                            },
                            "data": [
                                {
                                    "0": "3594"
                                }
                            ]
                        },
                        "text/html": [
                            "<table>",
                            "<tr><th>(No column name)</th></tr>",
                            "<tr><td>3594</td></tr>",
                            "</table>"
                        ]
                    }
                }
            ],
            "execution_count": 33
        },
        {
            "cell_type": "markdown",
            "source": [
                "Question 6: How many book titles contain the word Happy?"
            ],
            "metadata": {
                "azdata_cell_guid": "5080d6de-2775-4055-97ae-f93fce97a426"
            },
            "attachments": {}
        },
        {
            "cell_type": "code",
            "source": [
                "-- return number of books that contain the word Happy\n",
                "select count(*) from booksDB.dbo.books\n",
                "where title like '%Happy%'"
            ],
            "metadata": {
                "azdata_cell_guid": "f55f18b9-91b1-4761-ad8c-4758434d7827",
                "language": "sql"
            },
            "outputs": [
                {
                    "output_type": "display_data",
                    "data": {
                        "text/html": "(1 row affected)"
                    },
                    "metadata": {}
                },
                {
                    "output_type": "display_data",
                    "data": {
                        "text/html": "Total execution time: 00:00:00.147"
                    },
                    "metadata": {}
                },
                {
                    "output_type": "execute_result",
                    "metadata": {},
                    "execution_count": 38,
                    "data": {
                        "application/vnd.dataresource+json": {
                            "schema": {
                                "fields": [
                                    {
                                        "name": "(No column name)"
                                    }
                                ]
                            },
                            "data": [
                                {
                                    "0": "13"
                                }
                            ]
                        },
                        "text/html": [
                            "<table>",
                            "<tr><th>(No column name)</th></tr>",
                            "<tr><td>13</td></tr>",
                            "</table>"
                        ]
                    }
                }
            ],
            "execution_count": 38
        },
        {
            "cell_type": "markdown",
            "source": [
                "Question 7: List the books from the top 3 authors from question 1.  If there is more than one author just use the first one. Sort the titles <span style=\"background-color: rgba(127, 127, 127, 0.1); font-family: -apple-system, BlinkMacSystemFont, sans-serif;\">alphabetically by author and then by average_rating, best rated to lowest. Does order matter in sorting?</span>"
            ],
            "metadata": {
                "azdata_cell_guid": "d38270ef-da5a-42b4-802a-506acb8b9e4b"
            },
            "attachments": {}
        },
        {
            "cell_type": "code",
            "source": [
                "-- return all books from the top 3 authors, sort by author and rating\n",
                "Select authors ,title , average_rating From BooksDB.dbo.books \n",
                "where authors in ('Bill Watterson', 'Brandon Sanderson','J.K. Rowling') order by title,authors, average_rating desc\n",
                ""
            ],
            "metadata": {
                "azdata_cell_guid": "47466fac-5d8d-491d-bd3c-2f8496f55e6b",
                "language": "sql",
                "tags": []
            },
            "outputs": [
                {
                    "output_type": "display_data",
                    "data": {
                        "text/html": "(41 rows affected)"
                    },
                    "metadata": {}
                },
                {
                    "output_type": "display_data",
                    "data": {
                        "text/html": "Total execution time: 00:00:00.069"
                    },
                    "metadata": {}
                },
                {
                    "output_type": "execute_result",
                    "metadata": {},
                    "execution_count": 60,
                    "data": {
                        "application/vnd.dataresource+json": {
                            "schema": {
                                "fields": [
                                    {
                                        "name": "authors"
                                    },
                                    {
                                        "name": "title"
                                    },
                                    {
                                        "name": "average_rating"
                                    }
                                ]
                            },
                            "data": [
                                {
                                    "0": "Brandon Sanderson",
                                    "1": "Alcatraz Versus the Evil Librarians (Alcatraz, #1)",
                                    "2": "3.87"
                                },
                                {
                                    "0": "Bill Watterson",
                                    "1": "Attack of the Deranged Mutant Killer Monster Snow Goons",
                                    "2": "4.72"
                                },
                                {
                                    "0": "Brandon Sanderson",
                                    "1": "Calamity (The Reckoners, #3)",
                                    "2": "4.2"
                                },
                                {
                                    "0": "Brandon Sanderson",
                                    "1": "Elantris (Elantris, #1)",
                                    "2": "4.17"
                                },
                                {
                                    "0": "J.K. Rowling",
                                    "1": "Fantastic Beasts and Where to Find Them: The Original Screenplay",
                                    "2": "4.41"
                                },
                                {
                                    "0": "Brandon Sanderson",
                                    "1": "Firefight (The Reckoners, #2)",
                                    "2": "4.29"
                                },
                                {
                                    "0": "J.K. Rowling",
                                    "1": "Harry Potter and the Order of the Phoenix (Harry Potter, #5, Part 1)",
                                    "2": "4.56"
                                },
                                {
                                    "0": "J.K. Rowling",
                                    "1": "Harry Potter Boxset (Harry Potter, #1-7)",
                                    "2": "4.74"
                                },
                                {
                                    "0": "J.K. Rowling",
                                    "1": "Harry Potter Collection (Harry Potter, #1-6)",
                                    "2": "4.73"
                                },
                                {
                                    "0": "J.K. Rowling",
                                    "1": "Harry Potter Schoolbooks Box Set: Two Classic Books from the Library of Hogwarts School of Witchcraft and Wizardry",
                                    "2": "4.4"
                                },
                                {
                                    "0": "J.K. Rowling",
                                    "1": "Hogwarts: An Incomplete and Unreliable Guide (Pottermore Presents, #3)",
                                    "2": "4.21"
                                },
                                {
                                    "0": "Bill Watterson",
                                    "1": "Homicidal Psycho Jungle Cat: A Calvin and Hobbes Collection",
                                    "2": "4.71"
                                },
                                {
                                    "0": "Bill Watterson",
                                    "1": "It's a Magical World: A Calvin and Hobbes Collection",
                                    "2": "4.75"
                                },
                                {
                                    "0": "Brandon Sanderson",
                                    "1": "Legion (Legion, #1)",
                                    "2": "4.13"
                                },
                                {
                                    "0": "Brandon Sanderson",
                                    "1": "Mistborn Trilogy Boxed Set (Mistborn, #1-3)",
                                    "2": "4.55"
                                },
                                {
                                    "0": "Brandon Sanderson",
                                    "1": "Mitosis (The Reckoners, #1.5)",
                                    "2": "3.87"
                                },
                                {
                                    "0": "Brandon Sanderson",
                                    "1": "Secret History (Mistborn, #3.5)",
                                    "2": "4.38"
                                },
                                {
                                    "0": "Brandon Sanderson",
                                    "1": "Shadows of Self (Mistborn, #5)",
                                    "2": "4.3"
                                },
                                {
                                    "0": "Brandon Sanderson",
                                    "1": "Steelheart (The Reckoners, #1)",
                                    "2": "4.16"
                                },
                                {
                                    "0": "Brandon Sanderson",
                                    "1": "The Alloy of Law (Mistborn, #4)",
                                    "2": "4.2"
                                },
                                {
                                    "0": "Bill Watterson",
                                    "1": "The Authoritative Calvin and Hobbes: A Calvin and Hobbes Treasury",
                                    "2": "4.73"
                                },
                                {
                                    "0": "Brandon Sanderson",
                                    "1": "The Bands of Mourning (Mistborn, #6)",
                                    "2": "4.45"
                                },
                                {
                                    "0": "Bill Watterson",
                                    "1": "The Calvin and Hobbes Lazy Sunday Book",
                                    "2": "4.66"
                                },
                                {
                                    "0": "Bill Watterson",
                                    "1": "The Calvin and Hobbes Tenth Anniversary Book",
                                    "2": "4.63"
                                },
                                {
                                    "0": "J.K. Rowling",
                                    "1": "The Casual Vacancy",
                                    "2": "3.28"
                                },
                                {
                                    "0": "Bill Watterson",
                                    "1": "The Complete Calvin and Hobbes",
                                    "2": "4.82"
                                },
                                {
                                    "0": "Bill Watterson",
                                    "1": "The Days Are Just Packed: A Calvin and Hobbes Collection",
                                    "2": "4.68"
                                },
                                {
                                    "0": "Brandon Sanderson",
                                    "1": "The Emperor's Soul",
                                    "2": "4.33"
                                },
                                {
                                    "0": "Bill Watterson",
                                    "1": "The Essential Calvin and Hobbes: A Calvin and Hobbes Treasury",
                                    "2": "4.65"
                                },
                                {
                                    "0": "Brandon Sanderson",
                                    "1": "The Final Empire (Mistborn, #1)",
                                    "2": "4.43"
                                },
                                {
                                    "0": "Brandon Sanderson",
                                    "1": "The Hero of Ages (Mistborn, #3)",
                                    "2": "4.46"
                                },
                                {
                                    "0": "Bill Watterson",
                                    "1": "The Indispensable Calvin and Hobbes",
                                    "2": "4.73"
                                },
                                {
                                    "0": "Bill Watterson",
                                    "1": "The Revenge of the Baby-Sat",
                                    "2": "4.71"
                                },
                                {
                                    "0": "Brandon Sanderson",
                                    "1": "The Rithmatist (The Rithmatist, #1)",
                                    "2": "4.25"
                                },
                                {
                                    "0": "J.K. Rowling",
                                    "1": "The Tales of Beedle the Bard",
                                    "2": "4.06"
                                },
                                {
                                    "0": "Brandon Sanderson",
                                    "1": "The Way of Kings (The Stormlight Archive, #1)",
                                    "2": "4.64"
                                },
                                {
                                    "0": "Brandon Sanderson",
                                    "1": "The Way of Kings, Part 1 (The Stormlight Archive #1.1)",
                                    "2": "4.67"
                                },
                                {
                                    "0": "Brandon Sanderson",
                                    "1": "The Well of Ascension (Mistborn, #2)",
                                    "2": "4.35"
                                },
                                {
                                    "0": "Bill Watterson",
                                    "1": "There's Treasure Everywhere: A Calvin and Hobbes Collection",
                                    "2": "4.74"
                                },
                                {
                                    "0": "Brandon Sanderson",
                                    "1": "Warbreaker (Warbreaker, #1)",
                                    "2": "4.22"
                                },
                                {
                                    "0": "Brandon Sanderson",
                                    "1": "Words of Radiance (The Stormlight Archive, #2)",
                                    "2": "4.77"
                                }
                            ]
                        },
                        "text/html": [
                            "<table>",
                            "<tr><th>authors</th><th>title</th><th>average_rating</th></tr>",
                            "<tr><td>Brandon Sanderson</td><td>Alcatraz Versus the Evil Librarians (Alcatraz, #1)</td><td>3.87</td></tr>",
                            "<tr><td>Bill Watterson</td><td>Attack of the Deranged Mutant Killer Monster Snow Goons</td><td>4.72</td></tr>",
                            "<tr><td>Brandon Sanderson</td><td>Calamity (The Reckoners, #3)</td><td>4.2</td></tr>",
                            "<tr><td>Brandon Sanderson</td><td>Elantris (Elantris, #1)</td><td>4.17</td></tr>",
                            "<tr><td>J.K. Rowling</td><td>Fantastic Beasts and Where to Find Them: The Original Screenplay</td><td>4.41</td></tr>",
                            "<tr><td>Brandon Sanderson</td><td>Firefight (The Reckoners, #2)</td><td>4.29</td></tr>",
                            "<tr><td>J.K. Rowling</td><td>Harry Potter and the Order of the Phoenix (Harry Potter, #5, Part 1)</td><td>4.56</td></tr>",
                            "<tr><td>J.K. Rowling</td><td>Harry Potter Boxset (Harry Potter, #1-7)</td><td>4.74</td></tr>",
                            "<tr><td>J.K. Rowling</td><td>Harry Potter Collection (Harry Potter, #1-6)</td><td>4.73</td></tr>",
                            "<tr><td>J.K. Rowling</td><td>Harry Potter Schoolbooks Box Set: Two Classic Books from the Library of Hogwarts School of Witchcraft and Wizardry</td><td>4.4</td></tr>",
                            "<tr><td>J.K. Rowling</td><td>Hogwarts: An Incomplete and Unreliable Guide (Pottermore Presents, #3)</td><td>4.21</td></tr>",
                            "<tr><td>Bill Watterson</td><td>Homicidal Psycho Jungle Cat: A Calvin and Hobbes Collection</td><td>4.71</td></tr>",
                            "<tr><td>Bill Watterson</td><td>It's a Magical World: A Calvin and Hobbes Collection</td><td>4.75</td></tr>",
                            "<tr><td>Brandon Sanderson</td><td>Legion (Legion, #1)</td><td>4.13</td></tr>",
                            "<tr><td>Brandon Sanderson</td><td>Mistborn Trilogy Boxed Set (Mistborn, #1-3)</td><td>4.55</td></tr>",
                            "<tr><td>Brandon Sanderson</td><td>Mitosis (The Reckoners, #1.5)</td><td>3.87</td></tr>",
                            "<tr><td>Brandon Sanderson</td><td>Secret History (Mistborn, #3.5)</td><td>4.38</td></tr>",
                            "<tr><td>Brandon Sanderson</td><td>Shadows of Self (Mistborn, #5)</td><td>4.3</td></tr>",
                            "<tr><td>Brandon Sanderson</td><td>Steelheart (The Reckoners, #1)</td><td>4.16</td></tr>",
                            "<tr><td>Brandon Sanderson</td><td>The Alloy of Law (Mistborn, #4)</td><td>4.2</td></tr>",
                            "<tr><td>Bill Watterson</td><td>The Authoritative Calvin and Hobbes: A Calvin and Hobbes Treasury</td><td>4.73</td></tr>",
                            "<tr><td>Brandon Sanderson</td><td>The Bands of Mourning (Mistborn, #6)</td><td>4.45</td></tr>",
                            "<tr><td>Bill Watterson</td><td>The Calvin and Hobbes Lazy Sunday Book</td><td>4.66</td></tr>",
                            "<tr><td>Bill Watterson</td><td>The Calvin and Hobbes Tenth Anniversary Book</td><td>4.63</td></tr>",
                            "<tr><td>J.K. Rowling</td><td>The Casual Vacancy</td><td>3.28</td></tr>",
                            "<tr><td>Bill Watterson</td><td>The Complete Calvin and Hobbes</td><td>4.82</td></tr>",
                            "<tr><td>Bill Watterson</td><td>The Days Are Just Packed: A Calvin and Hobbes Collection</td><td>4.68</td></tr>",
                            "<tr><td>Brandon Sanderson</td><td>The Emperor's Soul</td><td>4.33</td></tr>",
                            "<tr><td>Bill Watterson</td><td>The Essential Calvin and Hobbes: A Calvin and Hobbes Treasury</td><td>4.65</td></tr>",
                            "<tr><td>Brandon Sanderson</td><td>The Final Empire (Mistborn, #1)</td><td>4.43</td></tr>",
                            "<tr><td>Brandon Sanderson</td><td>The Hero of Ages (Mistborn, #3)</td><td>4.46</td></tr>",
                            "<tr><td>Bill Watterson</td><td>The Indispensable Calvin and Hobbes</td><td>4.73</td></tr>",
                            "<tr><td>Bill Watterson</td><td>The Revenge of the Baby-Sat</td><td>4.71</td></tr>",
                            "<tr><td>Brandon Sanderson</td><td>The Rithmatist (The Rithmatist, #1)</td><td>4.25</td></tr>",
                            "<tr><td>J.K. Rowling</td><td>The Tales of Beedle the Bard</td><td>4.06</td></tr>",
                            "<tr><td>Brandon Sanderson</td><td>The Way of Kings (The Stormlight Archive, #1)</td><td>4.64</td></tr>",
                            "<tr><td>Brandon Sanderson</td><td>The Way of Kings, Part 1 (The Stormlight Archive #1.1)</td><td>4.67</td></tr>",
                            "<tr><td>Brandon Sanderson</td><td>The Well of Ascension (Mistborn, #2)</td><td>4.35</td></tr>",
                            "<tr><td>Bill Watterson</td><td>There's Treasure Everywhere: A Calvin and Hobbes Collection</td><td>4.74</td></tr>",
                            "<tr><td>Brandon Sanderson</td><td>Warbreaker (Warbreaker, #1)</td><td>4.22</td></tr>",
                            "<tr><td>Brandon Sanderson</td><td>Words of Radiance (The Stormlight Archive, #2)</td><td>4.77</td></tr>",
                            "</table>"
                        ]
                    }
                }
            ],
            "execution_count": 60
        },
        {
            "cell_type": "markdown",
            "source": [
                "Question 8: Take a close look at J.K. Rowling.  Is her top rated book on this list from question 1?  Why might this be? How could we account for this?\n",
                "\n",
                "> Click here to add your answer.\n",
                "> \n",
                "> <span style=\"color: #0000ff;\">Select</span> authors ,title , average\\_rating <span style=\"color: #0000ff;\">From</span> BooksDB.dbo.books\n",
                "> \n",
                "> <span style=\"color: #0000ff;\">where</span> authors <span style=\"color: #0000ff;\">in</span> (<span style=\"color: #a31515;\">'J.K.Rowling'</span>) <span style=\"color: #0000ff;\">order by</span> title,authors, average\\_rating <span style=\"color: #0000ff;\">desc</span>\n",
                "> \n",
                ">"
            ],
            "metadata": {
                "azdata_cell_guid": "db907c70-0bbd-4121-ac91-ae814f703243"
            },
            "attachments": {}
        },
        {
            "cell_type": "code",
            "source": [
                "Select authors ,title , average_rating From BooksDB.dbo.books \n",
                "where authors like '%J.K. Rowling%' order by average_rating desc,title,authors\n",
                ""
            ],
            "metadata": {
                "azdata_cell_guid": "813967eb-1a67-4d31-bd53-b8c6d1a6dd5e",
                "language": "sql"
            },
            "outputs": [
                {
                    "output_type": "display_data",
                    "data": {
                        "text/html": "(27 rows affected)"
                    },
                    "metadata": {}
                },
                {
                    "output_type": "display_data",
                    "data": {
                        "text/html": "Total execution time: 00:00:00.061"
                    },
                    "metadata": {}
                },
                {
                    "output_type": "execute_result",
                    "metadata": {},
                    "execution_count": 70,
                    "data": {
                        "application/vnd.dataresource+json": {
                            "schema": {
                                "fields": [
                                    {
                                        "name": "authors"
                                    },
                                    {
                                        "name": "title"
                                    },
                                    {
                                        "name": "average_rating"
                                    }
                                ]
                            },
                            "data": [
                                {
                                    "0": "J.K. Rowling, Mary GrandPré",
                                    "1": "Harry Potter Boxed Set, Books 1-5 (Harry Potter, #1-5)",
                                    "2": "4.77"
                                },
                                {
                                    "0": "J.K. Rowling",
                                    "1": "Harry Potter Boxset (Harry Potter, #1-7)",
                                    "2": "4.74"
                                },
                                {
                                    "0": "J.K. Rowling",
                                    "1": "Harry Potter Collection (Harry Potter, #1-6)",
                                    "2": "4.73"
                                },
                                {
                                    "0": "J.K. Rowling, Mary GrandPré",
                                    "1": "The Harry Potter Collection 1-4 (Harry Potter, #1-4)",
                                    "2": "4.66"
                                },
                                {
                                    "0": "J.K. Rowling, Mary GrandPré",
                                    "1": "Harry Potter and the Deathly Hallows (Harry Potter, #7)",
                                    "2": "4.61"
                                },
                                {
                                    "0": "J.K. Rowling",
                                    "1": "Harry Potter and the Order of the Phoenix (Harry Potter, #5, Part 1)",
                                    "2": "4.56"
                                },
                                {
                                    "0": "J.K. Rowling, Mary GrandPré",
                                    "1": "Harry Potter and the Half-Blood Prince (Harry Potter, #6)",
                                    "2": "4.54"
                                },
                                {
                                    "0": "J.K. Rowling, Mary GrandPré",
                                    "1": "Harry Potter and the Goblet of Fire (Harry Potter, #4)",
                                    "2": "4.53"
                                },
                                {
                                    "0": "J.K. Rowling, Mary GrandPré, Rufus Beck",
                                    "1": "Harry Potter and the Prisoner of Azkaban (Harry Potter, #3)",
                                    "2": "4.53"
                                },
                                {
                                    "0": "J.K. Rowling, Mary GrandPré",
                                    "1": "Harry Potter and the Order of the Phoenix (Harry Potter, #5)",
                                    "2": "4.46"
                                },
                                {
                                    "0": "J.K. Rowling, Mary GrandPré",
                                    "1": "Harry Potter and the Sorcerer's Stone (Harry Potter, #1)",
                                    "2": "4.44"
                                },
                                {
                                    "0": "J.K. Rowling",
                                    "1": "Fantastic Beasts and Where to Find Them: The Original Screenplay",
                                    "2": "4.41"
                                },
                                {
                                    "0": "J.K. Rowling",
                                    "1": "Harry Potter Schoolbooks Box Set: Two Classic Books from the Library of Hogwarts School of Witchcraft and Wizardry",
                                    "2": "4.4"
                                },
                                {
                                    "0": "J.K. Rowling, Mary GrandPré",
                                    "1": "Harry Potter and the Chamber of Secrets (Harry Potter, #2)",
                                    "2": "4.37"
                                },
                                {
                                    "0": "J.K. Rowling, Joel Holland",
                                    "1": "Very Good Lives: The Fringe Benefits of Failure and the Importance of Imagination",
                                    "2": "4.26"
                                },
                                {
                                    "0": "J.K. Rowling, MinaLima",
                                    "1": "Short Stories from Hogwarts of Heroism, Hardship and Dangerous Hobbies (Pottermore Presents, #1)",
                                    "2": "4.22"
                                },
                                {
                                    "0": "Robert Galbraith, J.K. Rowling",
                                    "1": "Career of Evil (Cormoran Strike, #3)",
                                    "2": "4.21"
                                },
                                {
                                    "0": "J.K. Rowling",
                                    "1": "Hogwarts: An Incomplete and Unreliable Guide (Pottermore Presents, #3)",
                                    "2": "4.21"
                                },
                                {
                                    "0": "J.K. Rowling, MinaLima",
                                    "1": "Short Stories from Hogwarts of Power, Politics and Pesky Poltergeists (Pottermore Presents, #2)",
                                    "2": "4.2"
                                },
                                {
                                    "0": "Melissa Anelli, J.K. Rowling",
                                    "1": "Harry, a History: The True Story of a Boy Wizard, His Fans, and Life Inside the Harry Potter Phenomenon",
                                    "2": "4.09"
                                },
                                {
                                    "0": "J.K. Rowling",
                                    "1": "The Tales of Beedle the Bard",
                                    "2": "4.06"
                                },
                                {
                                    "0": "Robert Galbraith, J.K. Rowling",
                                    "1": "The Silkworm (Cormoran Strike, #2)",
                                    "2": "4.03"
                                },
                                {
                                    "0": "Newt Scamander, J.K. Rowling, Albus Dumbledore",
                                    "1": "Fantastic Beasts and Where to Find Them",
                                    "2": "3.95"
                                },
                                {
                                    "0": "Kennilworthy Whisp, J.K. Rowling",
                                    "1": "Quidditch Through the Ages",
                                    "2": "3.85"
                                },
                                {
                                    "0": "Robert Galbraith, J.K. Rowling",
                                    "1": "The Cuckoo's Calling (Cormoran Strike, #1)",
                                    "2": "3.83"
                                },
                                {
                                    "0": "John Tiffany, Jack Thorne, J.K. Rowling",
                                    "1": "Harry Potter and the Cursed Child - Parts One and Two (Harry Potter, #8)",
                                    "2": "3.75"
                                },
                                {
                                    "0": "J.K. Rowling",
                                    "1": "The Casual Vacancy",
                                    "2": "3.28"
                                }
                            ]
                        },
                        "text/html": [
                            "<table>",
                            "<tr><th>authors</th><th>title</th><th>average_rating</th></tr>",
                            "<tr><td>J.K. Rowling, Mary GrandPré</td><td>Harry Potter Boxed Set, Books 1-5 (Harry Potter, #1-5)</td><td>4.77</td></tr>",
                            "<tr><td>J.K. Rowling</td><td>Harry Potter Boxset (Harry Potter, #1-7)</td><td>4.74</td></tr>",
                            "<tr><td>J.K. Rowling</td><td>Harry Potter Collection (Harry Potter, #1-6)</td><td>4.73</td></tr>",
                            "<tr><td>J.K. Rowling, Mary GrandPré</td><td>The Harry Potter Collection 1-4 (Harry Potter, #1-4)</td><td>4.66</td></tr>",
                            "<tr><td>J.K. Rowling, Mary GrandPré</td><td>Harry Potter and the Deathly Hallows (Harry Potter, #7)</td><td>4.61</td></tr>",
                            "<tr><td>J.K. Rowling</td><td>Harry Potter and the Order of the Phoenix (Harry Potter, #5, Part 1)</td><td>4.56</td></tr>",
                            "<tr><td>J.K. Rowling, Mary GrandPré</td><td>Harry Potter and the Half-Blood Prince (Harry Potter, #6)</td><td>4.54</td></tr>",
                            "<tr><td>J.K. Rowling, Mary GrandPré</td><td>Harry Potter and the Goblet of Fire (Harry Potter, #4)</td><td>4.53</td></tr>",
                            "<tr><td>J.K. Rowling, Mary GrandPré, Rufus Beck</td><td>Harry Potter and the Prisoner of Azkaban (Harry Potter, #3)</td><td>4.53</td></tr>",
                            "<tr><td>J.K. Rowling, Mary GrandPré</td><td>Harry Potter and the Order of the Phoenix (Harry Potter, #5)</td><td>4.46</td></tr>",
                            "<tr><td>J.K. Rowling, Mary GrandPré</td><td>Harry Potter and the Sorcerer's Stone (Harry Potter, #1)</td><td>4.44</td></tr>",
                            "<tr><td>J.K. Rowling</td><td>Fantastic Beasts and Where to Find Them: The Original Screenplay</td><td>4.41</td></tr>",
                            "<tr><td>J.K. Rowling</td><td>Harry Potter Schoolbooks Box Set: Two Classic Books from the Library of Hogwarts School of Witchcraft and Wizardry</td><td>4.4</td></tr>",
                            "<tr><td>J.K. Rowling, Mary GrandPré</td><td>Harry Potter and the Chamber of Secrets (Harry Potter, #2)</td><td>4.37</td></tr>",
                            "<tr><td>J.K. Rowling, Joel Holland</td><td>Very Good Lives: The Fringe Benefits of Failure and the Importance of Imagination</td><td>4.26</td></tr>",
                            "<tr><td>J.K. Rowling, MinaLima</td><td>Short Stories from Hogwarts of Heroism, Hardship and Dangerous Hobbies (Pottermore Presents, #1)</td><td>4.22</td></tr>",
                            "<tr><td>Robert Galbraith, J.K. Rowling</td><td>Career of Evil (Cormoran Strike, #3)</td><td>4.21</td></tr>",
                            "<tr><td>J.K. Rowling</td><td>Hogwarts: An Incomplete and Unreliable Guide (Pottermore Presents, #3)</td><td>4.21</td></tr>",
                            "<tr><td>J.K. Rowling, MinaLima</td><td>Short Stories from Hogwarts of Power, Politics and Pesky Poltergeists (Pottermore Presents, #2)</td><td>4.2</td></tr>",
                            "<tr><td>Melissa Anelli, J.K. Rowling</td><td>Harry, a History: The True Story of a Boy Wizard, His Fans, and Life Inside the Harry Potter Phenomenon</td><td>4.09</td></tr>",
                            "<tr><td>J.K. Rowling</td><td>The Tales of Beedle the Bard</td><td>4.06</td></tr>",
                            "<tr><td>Robert Galbraith, J.K. Rowling</td><td>The Silkworm (Cormoran Strike, #2)</td><td>4.03</td></tr>",
                            "<tr><td>Newt Scamander, J.K. Rowling, Albus Dumbledore</td><td>Fantastic Beasts and Where to Find Them</td><td>3.95</td></tr>",
                            "<tr><td>Kennilworthy Whisp, J.K. Rowling</td><td>Quidditch Through the Ages</td><td>3.85</td></tr>",
                            "<tr><td>Robert Galbraith, J.K. Rowling</td><td>The Cuckoo's Calling (Cormoran Strike, #1)</td><td>3.83</td></tr>",
                            "<tr><td>John Tiffany, Jack Thorne, J.K. Rowling</td><td>Harry Potter and the Cursed Child - Parts One and Two (Harry Potter, #8)</td><td>3.75</td></tr>",
                            "<tr><td>J.K. Rowling</td><td>The Casual Vacancy</td><td>3.28</td></tr>",
                            "</table>"
                        ]
                    }
                }
            ],
            "execution_count": 70
        },
        {
            "cell_type": "markdown",
            "source": [
                "Try updating your above query to include all of J.K. Rowling's books.\n",
                "\n",
                "Are there any other issues?\n",
                "\n",
                "> Click here to add your answer."
            ],
            "metadata": {
                "azdata_cell_guid": "35ee4a48-8e84-4eb5-95ca-f5cdddc8d682"
            },
            "attachments": {}
        },
        {
            "cell_type": "code",
            "source": [
                "-- Try updating your above query to include all of J.K. Rowling's books\n",
                "\n",
                "Select authors ,title , average_rating From BooksDB.dbo.books \n",
                "where authors like '%J.K. Rowling%' order by average_rating desc,title,authors\n",
                "\n",
                "\n",
                ""
            ],
            "metadata": {
                "azdata_cell_guid": "ce489012-fce9-435c-b570-7734223a0678",
                "tags": [],
                "language": "sql"
            },
            "outputs": [
                {
                    "output_type": "display_data",
                    "data": {
                        "text/html": "(27 rows affected)"
                    },
                    "metadata": {}
                },
                {
                    "output_type": "display_data",
                    "data": {
                        "text/html": "Total execution time: 00:00:00.064"
                    },
                    "metadata": {}
                },
                {
                    "output_type": "execute_result",
                    "metadata": {},
                    "execution_count": 71,
                    "data": {
                        "application/vnd.dataresource+json": {
                            "schema": {
                                "fields": [
                                    {
                                        "name": "authors"
                                    },
                                    {
                                        "name": "title"
                                    },
                                    {
                                        "name": "average_rating"
                                    }
                                ]
                            },
                            "data": [
                                {
                                    "0": "J.K. Rowling, Mary GrandPré",
                                    "1": "Harry Potter Boxed Set, Books 1-5 (Harry Potter, #1-5)",
                                    "2": "4.77"
                                },
                                {
                                    "0": "J.K. Rowling",
                                    "1": "Harry Potter Boxset (Harry Potter, #1-7)",
                                    "2": "4.74"
                                },
                                {
                                    "0": "J.K. Rowling",
                                    "1": "Harry Potter Collection (Harry Potter, #1-6)",
                                    "2": "4.73"
                                },
                                {
                                    "0": "J.K. Rowling, Mary GrandPré",
                                    "1": "The Harry Potter Collection 1-4 (Harry Potter, #1-4)",
                                    "2": "4.66"
                                },
                                {
                                    "0": "J.K. Rowling, Mary GrandPré",
                                    "1": "Harry Potter and the Deathly Hallows (Harry Potter, #7)",
                                    "2": "4.61"
                                },
                                {
                                    "0": "J.K. Rowling",
                                    "1": "Harry Potter and the Order of the Phoenix (Harry Potter, #5, Part 1)",
                                    "2": "4.56"
                                },
                                {
                                    "0": "J.K. Rowling, Mary GrandPré",
                                    "1": "Harry Potter and the Half-Blood Prince (Harry Potter, #6)",
                                    "2": "4.54"
                                },
                                {
                                    "0": "J.K. Rowling, Mary GrandPré",
                                    "1": "Harry Potter and the Goblet of Fire (Harry Potter, #4)",
                                    "2": "4.53"
                                },
                                {
                                    "0": "J.K. Rowling, Mary GrandPré, Rufus Beck",
                                    "1": "Harry Potter and the Prisoner of Azkaban (Harry Potter, #3)",
                                    "2": "4.53"
                                },
                                {
                                    "0": "J.K. Rowling, Mary GrandPré",
                                    "1": "Harry Potter and the Order of the Phoenix (Harry Potter, #5)",
                                    "2": "4.46"
                                },
                                {
                                    "0": "J.K. Rowling, Mary GrandPré",
                                    "1": "Harry Potter and the Sorcerer's Stone (Harry Potter, #1)",
                                    "2": "4.44"
                                },
                                {
                                    "0": "J.K. Rowling",
                                    "1": "Fantastic Beasts and Where to Find Them: The Original Screenplay",
                                    "2": "4.41"
                                },
                                {
                                    "0": "J.K. Rowling",
                                    "1": "Harry Potter Schoolbooks Box Set: Two Classic Books from the Library of Hogwarts School of Witchcraft and Wizardry",
                                    "2": "4.4"
                                },
                                {
                                    "0": "J.K. Rowling, Mary GrandPré",
                                    "1": "Harry Potter and the Chamber of Secrets (Harry Potter, #2)",
                                    "2": "4.37"
                                },
                                {
                                    "0": "J.K. Rowling, Joel Holland",
                                    "1": "Very Good Lives: The Fringe Benefits of Failure and the Importance of Imagination",
                                    "2": "4.26"
                                },
                                {
                                    "0": "J.K. Rowling, MinaLima",
                                    "1": "Short Stories from Hogwarts of Heroism, Hardship and Dangerous Hobbies (Pottermore Presents, #1)",
                                    "2": "4.22"
                                },
                                {
                                    "0": "Robert Galbraith, J.K. Rowling",
                                    "1": "Career of Evil (Cormoran Strike, #3)",
                                    "2": "4.21"
                                },
                                {
                                    "0": "J.K. Rowling",
                                    "1": "Hogwarts: An Incomplete and Unreliable Guide (Pottermore Presents, #3)",
                                    "2": "4.21"
                                },
                                {
                                    "0": "J.K. Rowling, MinaLima",
                                    "1": "Short Stories from Hogwarts of Power, Politics and Pesky Poltergeists (Pottermore Presents, #2)",
                                    "2": "4.2"
                                },
                                {
                                    "0": "Melissa Anelli, J.K. Rowling",
                                    "1": "Harry, a History: The True Story of a Boy Wizard, His Fans, and Life Inside the Harry Potter Phenomenon",
                                    "2": "4.09"
                                },
                                {
                                    "0": "J.K. Rowling",
                                    "1": "The Tales of Beedle the Bard",
                                    "2": "4.06"
                                },
                                {
                                    "0": "Robert Galbraith, J.K. Rowling",
                                    "1": "The Silkworm (Cormoran Strike, #2)",
                                    "2": "4.03"
                                },
                                {
                                    "0": "Newt Scamander, J.K. Rowling, Albus Dumbledore",
                                    "1": "Fantastic Beasts and Where to Find Them",
                                    "2": "3.95"
                                },
                                {
                                    "0": "Kennilworthy Whisp, J.K. Rowling",
                                    "1": "Quidditch Through the Ages",
                                    "2": "3.85"
                                },
                                {
                                    "0": "Robert Galbraith, J.K. Rowling",
                                    "1": "The Cuckoo's Calling (Cormoran Strike, #1)",
                                    "2": "3.83"
                                },
                                {
                                    "0": "John Tiffany, Jack Thorne, J.K. Rowling",
                                    "1": "Harry Potter and the Cursed Child - Parts One and Two (Harry Potter, #8)",
                                    "2": "3.75"
                                },
                                {
                                    "0": "J.K. Rowling",
                                    "1": "The Casual Vacancy",
                                    "2": "3.28"
                                }
                            ]
                        },
                        "text/html": [
                            "<table>",
                            "<tr><th>authors</th><th>title</th><th>average_rating</th></tr>",
                            "<tr><td>J.K. Rowling, Mary GrandPré</td><td>Harry Potter Boxed Set, Books 1-5 (Harry Potter, #1-5)</td><td>4.77</td></tr>",
                            "<tr><td>J.K. Rowling</td><td>Harry Potter Boxset (Harry Potter, #1-7)</td><td>4.74</td></tr>",
                            "<tr><td>J.K. Rowling</td><td>Harry Potter Collection (Harry Potter, #1-6)</td><td>4.73</td></tr>",
                            "<tr><td>J.K. Rowling, Mary GrandPré</td><td>The Harry Potter Collection 1-4 (Harry Potter, #1-4)</td><td>4.66</td></tr>",
                            "<tr><td>J.K. Rowling, Mary GrandPré</td><td>Harry Potter and the Deathly Hallows (Harry Potter, #7)</td><td>4.61</td></tr>",
                            "<tr><td>J.K. Rowling</td><td>Harry Potter and the Order of the Phoenix (Harry Potter, #5, Part 1)</td><td>4.56</td></tr>",
                            "<tr><td>J.K. Rowling, Mary GrandPré</td><td>Harry Potter and the Half-Blood Prince (Harry Potter, #6)</td><td>4.54</td></tr>",
                            "<tr><td>J.K. Rowling, Mary GrandPré</td><td>Harry Potter and the Goblet of Fire (Harry Potter, #4)</td><td>4.53</td></tr>",
                            "<tr><td>J.K. Rowling, Mary GrandPré, Rufus Beck</td><td>Harry Potter and the Prisoner of Azkaban (Harry Potter, #3)</td><td>4.53</td></tr>",
                            "<tr><td>J.K. Rowling, Mary GrandPré</td><td>Harry Potter and the Order of the Phoenix (Harry Potter, #5)</td><td>4.46</td></tr>",
                            "<tr><td>J.K. Rowling, Mary GrandPré</td><td>Harry Potter and the Sorcerer's Stone (Harry Potter, #1)</td><td>4.44</td></tr>",
                            "<tr><td>J.K. Rowling</td><td>Fantastic Beasts and Where to Find Them: The Original Screenplay</td><td>4.41</td></tr>",
                            "<tr><td>J.K. Rowling</td><td>Harry Potter Schoolbooks Box Set: Two Classic Books from the Library of Hogwarts School of Witchcraft and Wizardry</td><td>4.4</td></tr>",
                            "<tr><td>J.K. Rowling, Mary GrandPré</td><td>Harry Potter and the Chamber of Secrets (Harry Potter, #2)</td><td>4.37</td></tr>",
                            "<tr><td>J.K. Rowling, Joel Holland</td><td>Very Good Lives: The Fringe Benefits of Failure and the Importance of Imagination</td><td>4.26</td></tr>",
                            "<tr><td>J.K. Rowling, MinaLima</td><td>Short Stories from Hogwarts of Heroism, Hardship and Dangerous Hobbies (Pottermore Presents, #1)</td><td>4.22</td></tr>",
                            "<tr><td>Robert Galbraith, J.K. Rowling</td><td>Career of Evil (Cormoran Strike, #3)</td><td>4.21</td></tr>",
                            "<tr><td>J.K. Rowling</td><td>Hogwarts: An Incomplete and Unreliable Guide (Pottermore Presents, #3)</td><td>4.21</td></tr>",
                            "<tr><td>J.K. Rowling, MinaLima</td><td>Short Stories from Hogwarts of Power, Politics and Pesky Poltergeists (Pottermore Presents, #2)</td><td>4.2</td></tr>",
                            "<tr><td>Melissa Anelli, J.K. Rowling</td><td>Harry, a History: The True Story of a Boy Wizard, His Fans, and Life Inside the Harry Potter Phenomenon</td><td>4.09</td></tr>",
                            "<tr><td>J.K. Rowling</td><td>The Tales of Beedle the Bard</td><td>4.06</td></tr>",
                            "<tr><td>Robert Galbraith, J.K. Rowling</td><td>The Silkworm (Cormoran Strike, #2)</td><td>4.03</td></tr>",
                            "<tr><td>Newt Scamander, J.K. Rowling, Albus Dumbledore</td><td>Fantastic Beasts and Where to Find Them</td><td>3.95</td></tr>",
                            "<tr><td>Kennilworthy Whisp, J.K. Rowling</td><td>Quidditch Through the Ages</td><td>3.85</td></tr>",
                            "<tr><td>Robert Galbraith, J.K. Rowling</td><td>The Cuckoo's Calling (Cormoran Strike, #1)</td><td>3.83</td></tr>",
                            "<tr><td>John Tiffany, Jack Thorne, J.K. Rowling</td><td>Harry Potter and the Cursed Child - Parts One and Two (Harry Potter, #8)</td><td>3.75</td></tr>",
                            "<tr><td>J.K. Rowling</td><td>The Casual Vacancy</td><td>3.28</td></tr>",
                            "</table>"
                        ]
                    }
                }
            ],
            "execution_count": 71
        },
        {
            "cell_type": "markdown",
            "source": [
                "Question 9: Write a query that returns the number of Authors whose first name is between rock and roll."
            ],
            "metadata": {
                "azdata_cell_guid": "75bf5054-4918-4e9e-8e03-24a38ffab9cc"
            },
            "attachments": {}
        },
        {
            "cell_type": "code",
            "source": [
                "-- return number of authors whose first name is between rock and roll\n",
                "select count(*) from BooksDB.dbo.books\n",
                "where authors between 'rock' and 'roll'\n",
                ""
            ],
            "metadata": {
                "azdata_cell_guid": "491b2492-95d4-4078-b319-386b0c5592ec",
                "language": "sql"
            },
            "outputs": [
                {
                    "output_type": "display_data",
                    "data": {
                        "text/html": "(1 row affected)"
                    },
                    "metadata": {}
                },
                {
                    "output_type": "display_data",
                    "data": {
                        "text/html": "Total execution time: 00:00:00.047"
                    },
                    "metadata": {}
                },
                {
                    "output_type": "execute_result",
                    "metadata": {},
                    "execution_count": 76,
                    "data": {
                        "application/vnd.dataresource+json": {
                            "schema": {
                                "fields": [
                                    {
                                        "name": "(No column name)"
                                    }
                                ]
                            },
                            "data": [
                                {
                                    "0": "25"
                                }
                            ]
                        },
                        "text/html": [
                            "<table>",
                            "<tr><th>(No column name)</th></tr>",
                            "<tr><td>25</td></tr>",
                            "</table>"
                        ]
                    }
                }
            ],
            "execution_count": 76
        },
        {
            "cell_type": "markdown",
            "source": [
                "## Part 2. Write your own question and write a query to answer it.\n",
                "\n",
                "Your Question:  Click here to add"
            ],
            "metadata": {
                "azdata_cell_guid": "1ba1363a-4f02-4962-a95a-93b80c5926b1"
            },
            "attachments": {}
        },
        {
            "cell_type": "code",
            "source": [
                "-- Add your querry here Write a query that returns the longest title?\n",
                "SELECT TOP 1 * FROM BOOKSDB.DBO.books\n",
                "WHERE LEN(TITLE)= (SELECT MAX(LEN(TITLE)) FROM BOOKSDB.DBO.BOOKS)"
            ],
            "metadata": {
                "azdata_cell_guid": "607f1a61-b306-42bf-a20c-60ec3a6ba86a",
                "language": "sql"
            },
            "outputs": [
                {
                    "output_type": "display_data",
                    "data": {
                        "text/html": "(1 row affected)"
                    },
                    "metadata": {}
                },
                {
                    "output_type": "display_data",
                    "data": {
                        "text/html": "Total execution time: 00:00:00.077"
                    },
                    "metadata": {}
                },
                {
                    "output_type": "execute_result",
                    "metadata": {},
                    "execution_count": 84,
                    "data": {
                        "application/vnd.dataresource+json": {
                            "schema": {
                                "fields": [
                                    {
                                        "name": "id"
                                    },
                                    {
                                        "name": "book_id"
                                    },
                                    {
                                        "name": "best_book_id"
                                    },
                                    {
                                        "name": "work_id"
                                    },
                                    {
                                        "name": "books_count"
                                    },
                                    {
                                        "name": "isbn"
                                    },
                                    {
                                        "name": "isbn13"
                                    },
                                    {
                                        "name": "authors"
                                    },
                                    {
                                        "name": "original_publication_year"
                                    },
                                    {
                                        "name": "original_title"
                                    },
                                    {
                                        "name": "title"
                                    },
                                    {
                                        "name": "language_code"
                                    },
                                    {
                                        "name": "average_rating"
                                    },
                                    {
                                        "name": "ratings_count"
                                    },
                                    {
                                        "name": "work_ratings_count"
                                    },
                                    {
                                        "name": "work_text_reviews_count"
                                    },
                                    {
                                        "name": "ratings_1"
                                    },
                                    {
                                        "name": "ratings_2"
                                    },
                                    {
                                        "name": "ratings_3"
                                    },
                                    {
                                        "name": "ratings_4"
                                    },
                                    {
                                        "name": "ratings_5"
                                    },
                                    {
                                        "name": "image_url"
                                    },
                                    {
                                        "name": "small_image_url"
                                    }
                                ]
                            },
                            "data": [
                                {
                                    "0": "6984",
                                    "1": "6617185",
                                    "2": "6617185",
                                    "3": "6811292",
                                    "4": "38",
                                    "5": "1568584253",
                                    "6": "9781568584260",
                                    "7": "Simon Kuper, Stefan Szymanski",
                                    "8": "2009",
                                    "9": "Soccernomics: Why England Loses, Why Germany and Brazil Win, and Why the U.S., Japan, Australia, Turkey--and Even Iraq--Are Destined to Become the Kings of the World's Most Popular Sport",
                                    "10": "Soccernomics: Why England Loses, Why Germany and Brazil Win, and Why the U.S., Japan, Australia, Turkey--and Even Iraq--Are Destined to Become the Kings of the World's Most Popular Sport",
                                    "11": "en-US",
                                    "12": "3.91",
                                    "13": "10577",
                                    "14": "11824",
                                    "15": "541",
                                    "16": "278",
                                    "17": "586",
                                    "18": "2796",
                                    "19": "4406",
                                    "20": "3758",
                                    "21": "https://s.gr-assets.com/assets/nophoto/book/111x148-bcc042a9c91a29c1d680899eff700a03.png",
                                    "22": "https://s.gr-assets.com/assets/nophoto/book/50x75-a91bf249278a81aabab721ef782c4a74.png"
                                }
                            ]
                        },
                        "text/html": [
                            "<table>",
                            "<tr><th>id</th><th>book_id</th><th>best_book_id</th><th>work_id</th><th>books_count</th><th>isbn</th><th>isbn13</th><th>authors</th><th>original_publication_year</th><th>original_title</th><th>title</th><th>language_code</th><th>average_rating</th><th>ratings_count</th><th>work_ratings_count</th><th>work_text_reviews_count</th><th>ratings_1</th><th>ratings_2</th><th>ratings_3</th><th>ratings_4</th><th>ratings_5</th><th>image_url</th><th>small_image_url</th></tr>",
                            "<tr><td>6984</td><td>6617185</td><td>6617185</td><td>6811292</td><td>38</td><td>1568584253</td><td>9781568584260</td><td>Simon Kuper, Stefan Szymanski</td><td>2009</td><td>Soccernomics: Why England Loses, Why Germany and Brazil Win, and Why the U.S., Japan, Australia, Turkey--and Even Iraq--Are Destined to Become the Kings of the World's Most Popular Sport</td><td>Soccernomics: Why England Loses, Why Germany and Brazil Win, and Why the U.S., Japan, Australia, Turkey--and Even Iraq--Are Destined to Become the Kings of the World's Most Popular Sport</td><td>en-US</td><td>3.91</td><td>10577</td><td>11824</td><td>541</td><td>278</td><td>586</td><td>2796</td><td>4406</td><td>3758</td><td>https://s.gr-assets.com/assets/nophoto/book/111x148-bcc042a9c91a29c1d680899eff700a03.png</td><td>https://s.gr-assets.com/assets/nophoto/book/50x75-a91bf249278a81aabab721ef782c4a74.png</td></tr>",
                            "</table>"
                        ]
                    }
                }
            ],
            "execution_count": 84
        },
        {
            "cell_type": "markdown",
            "source": [
                "Your Question: Click here to add"
            ],
            "metadata": {
                "azdata_cell_guid": "9386ad04-a016-44d4-8c5c-d25a102d47b4"
            }
        },
        {
            "cell_type": "code",
            "source": [
                "-- Add your querry here- Top  ten books written the year I was born?\n",
                "SELECT TOP 10 AUTHORS,title,average_rating,ORIGINAL_PUBLICATION_YEAR\n",
                "FROM BOOKSDB.DBO.books\n",
                "WHERE ORIGINAL_PUBLICATION_YEAR = '1986'\n",
                "ORDER BY AVERAGE_RATING DESC"
            ],
            "metadata": {
                "azdata_cell_guid": "15f249cf-aad7-468d-92e1-429b2a09f285",
                "language": "sql"
            },
            "outputs": [
                {
                    "output_type": "display_data",
                    "data": {
                        "text/html": "(10 rows affected)"
                    },
                    "metadata": {}
                },
                {
                    "output_type": "display_data",
                    "data": {
                        "text/html": "Total execution time: 00:00:00.060"
                    },
                    "metadata": {}
                },
                {
                    "output_type": "execute_result",
                    "metadata": {},
                    "execution_count": 88,
                    "data": {
                        "application/vnd.dataresource+json": {
                            "schema": {
                                "fields": [
                                    {
                                        "name": "AUTHORS"
                                    },
                                    {
                                        "name": "title"
                                    },
                                    {
                                        "name": "average_rating"
                                    },
                                    {
                                        "name": "ORIGINAL_PUBLICATION_YEAR"
                                    }
                                ]
                            },
                            "data": [
                                {
                                    "0": "Art Spiegelman",
                                    "1": "The Complete Maus (Maus, #1-2)",
                                    "2": "4.53",
                                    "3": "1986"
                                },
                                {
                                    "0": "Douglas Adams",
                                    "1": "The Hitchhiker's Guide to the Galaxy: A Trilogy in Four Parts",
                                    "2": "4.51",
                                    "3": "1986"
                                },
                                {
                                    "0": "Clement C. Moore, Jan Brett",
                                    "1": "The Night Before Christmas",
                                    "2": "4.36",
                                    "3": "1986"
                                },
                                {
                                    "0": "Beatrix Potter",
                                    "1": "The Complete Tales",
                                    "2": "4.36",
                                    "3": "1986"
                                },
                                {
                                    "0": "Noah Gordon",
                                    "1": "The Physician (Cole Family Trilogy, #1)",
                                    "2": "4.35",
                                    "3": "1986"
                                },
                                {
                                    "0": "Robert Munsch, Sheila McGraw",
                                    "1": "Love You Forever",
                                    "2": "4.34",
                                    "3": "1986"
                                },
                                {
                                    "0": "Michael Teitelbaum, Walt Disney Company",
                                    "1": "Sleeping Beauty: a Little Golden Book (Disney Princess)",
                                    "2": "4.32",
                                    "3": "1986"
                                },
                                {
                                    "0": "Richard Rhodes",
                                    "1": "The Making of the Atomic Bomb",
                                    "2": "4.32",
                                    "3": "1986"
                                },
                                {
                                    "0": "John Steptoe",
                                    "1": "Mufaro's Beautiful Daughters: An African Tale",
                                    "2": "4.32",
                                    "3": "1986"
                                },
                                {
                                    "0": "Martin Luther King Jr., Clayborne Carson",
                                    "1": "The Autobiography of Martin Luther King, Jr.",
                                    "2": "4.31",
                                    "3": "1986"
                                }
                            ]
                        },
                        "text/html": [
                            "<table>",
                            "<tr><th>AUTHORS</th><th>title</th><th>average_rating</th><th>ORIGINAL_PUBLICATION_YEAR</th></tr>",
                            "<tr><td>Art Spiegelman</td><td>The Complete Maus (Maus, #1-2)</td><td>4.53</td><td>1986</td></tr>",
                            "<tr><td>Douglas Adams</td><td>The Hitchhiker's Guide to the Galaxy: A Trilogy in Four Parts</td><td>4.51</td><td>1986</td></tr>",
                            "<tr><td>Clement C. Moore, Jan Brett</td><td>The Night Before Christmas</td><td>4.36</td><td>1986</td></tr>",
                            "<tr><td>Beatrix Potter</td><td>The Complete Tales</td><td>4.36</td><td>1986</td></tr>",
                            "<tr><td>Noah Gordon</td><td>The Physician (Cole Family Trilogy, #1)</td><td>4.35</td><td>1986</td></tr>",
                            "<tr><td>Robert Munsch, Sheila McGraw</td><td>Love You Forever</td><td>4.34</td><td>1986</td></tr>",
                            "<tr><td>Michael Teitelbaum, Walt Disney Company</td><td>Sleeping Beauty: a Little Golden Book (Disney Princess)</td><td>4.32</td><td>1986</td></tr>",
                            "<tr><td>Richard Rhodes</td><td>The Making of the Atomic Bomb</td><td>4.32</td><td>1986</td></tr>",
                            "<tr><td>John Steptoe</td><td>Mufaro's Beautiful Daughters: An African Tale</td><td>4.32</td><td>1986</td></tr>",
                            "<tr><td>Martin Luther King Jr., Clayborne Carson</td><td>The Autobiography of Martin Luther King, Jr.</td><td>4.31</td><td>1986</td></tr>",
                            "</table>"
                        ]
                    }
                }
            ],
            "execution_count": 88
        },
        {
            "cell_type": "markdown",
            "source": [
                "**Some Question Examples:**\n",
                "\n",
                "Write a query that returns the longest title?\n",
                "\n",
                "Which Author has written the most books?  \n",
                "\n",
                "Top  ten books written the year I was born?"
            ],
            "metadata": {
                "azdata_cell_guid": "7160362b-7127-4123-bd1d-95a94ae38a07"
            }
        }
    ]
}